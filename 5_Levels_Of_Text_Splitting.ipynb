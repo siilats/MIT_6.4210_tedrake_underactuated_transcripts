{
 "cells": [
  {
   "cell_type": "markdown",
   "id": "a9663ad9-217c-46d3-befc-8ccabeba890b",
   "metadata": {},
   "source": [
    "# 5 Levels Of Text Splitting\n",
    "\n",
    "In this tutorial we are reviewing the 5 Levels Of Text Splitting. This is an unofficial list put together for fun and educational purposes.\n",
    "\n",
    "Ever try to put a long piece of text into ChatGPT but it tells you it’s too long? Or you're trying to give your application better long term memory, but it’s still just not quite working.\n",
    "\n",
    "One of the most effective strategies to improve performance of your language model applications is to split your large data into smaller pieces. This is call splitting or chunking (we'll use these terms interchangeably). In the world of multi-modal, splitting also applies to images.\n",
    "\n",
    "We are going to cover a lot, but if you make it to the end, I guarantee you’ll have a solid grasp on chunking theory, strategies, and resources to learn more.\n",
    "\n",
    "**Levels Of Text Splitting**\n",
    "* **Level 1: [Character Splitting](#CharacterSplitting)** - Simple static character chunks of data\n",
    "* **Level 2: [Recursive Character Text Splitting](#RecursiveCharacterSplitting)** - Recursive chunking based on a list of separators\n",
    "* **Level 3: [Document Specific Splitting](#DocumentSpecific)** - Various chunking methods for different document types (PDF, Python, Markdown)\n",
    "* **Level 4: [Semantic Splitting](#SemanticChunking)** - Embedding walk based chunking\n",
    "* **Level 5: [Agentic Splitting](#AgenticChunking)** - Experimental method of splitting text with an agent-like system. Good for if you believe that token cost will trend to $0.00\n",
    "* **\\*Bonus Level:\\*** **[Alternative Representation Chunking + Indexing](#BonusLevel)** - Derivative representations of your raw text that will aid in retrieval and indexing\n",
    "\n",
    "**Notebook resources:**\n",
    "* [Video Overview]() - Walkthrough of this code with commentary\n",
    "* [ChunkViz.com](https://www.chunkviz.com/) - Visual representation of chunk splitting methods\n",
    "* [RAGAS](https://github.com/explodinggradients/ragas) - Retrieval evaluation framework\n",
    "\n",
    "This tutorial was created with ❤️ by [Greg Kamradt](https://twitter.com/GregKamradt). MIT license, attribution is always welcome.\n",
    "\n",
    "This tutorial will use code from LangChain (`pip install langchain`) & Llama Index (`pip install llama-index`)\n",
    "\n",
    "**Evaluations**\n",
    "\n",
    "It's important to test your chunking strategies in retrieval evals. It doesn't matter how you chunk if the performance of your application isn't great.\n",
    "\n",
    "Eval Frameworks:\n",
    "\n",
    "* [LangChain Evals](https://python.langchain.com/docs/guides/evaluation/)\n",
    "* [Llama Index Evals](https://docs.llamaindex.ai/en/stable/module_guides/evaluating/root.html)\n",
    "* [RAGAS Evals](https://github.com/explodinggradients/ragas)\n",
    "\n",
    "I'm not going to demo evals for each method because success is domain specific. The arbitrary eval that I pick may not be suitable for your data. If anyone is interested in collaborating on a rigorous evaluation of different chunking strategies, please reach out (contact@dataindependent.com).\n",
    "\n",
    "If you only walk away from this tutorial with one thing have it be the **The Chunking Commandment**\n",
    "\n",
    "**The Chunking Commandment:** Your goal is not to chunk for chunking sake, our goal is to get our data in a format where it can be retrieved for value later.\n",
    "\n",
    "## Level 1: Character Splitting <a id=\"CharacterSplitting\"></a>\n",
    "Character splitting is the most basic form of splitting up your text. It is the process of simply dividing your text into N-character sized chunks regardless of their content or form.\n",
    "\n",
    "This method isn't recommended for any applications - but it's a great starting point for us to understand the basics.\n",
    "\n",
    "* **Pros:** Easy & Simple\n",
    "* **Cons:** Very rigid and doesn't take into account the structure of your text\n",
    "\n",
    "Concepts to know:\n",
    "* **Chunk Size** - The number of characters you would like in your chunks. 50, 100, 100,000, etc.\n",
    "* **Chunk Overlap** - The amount you would like your sequential chunks to overlap. This is to try to avoid cutting a single piece of context into multiple pieces. This will create duplicate data across chunks.\n",
    "\n",
    "First let's get some sample text"
   ]
  },
  {
   "cell_type": "code",
   "id": "c96299fc-30f5-4edf-ac23-23a29f9c7282",
   "metadata": {
    "ExecuteTime": {
     "end_time": "2024-11-10T23:09:03.626825Z",
     "start_time": "2024-11-10T23:09:03.616611Z"
    }
   },
   "source": [
    "text = \"This is the text I would like to chunk up. It is the example text for this exercise\""
   ],
   "outputs": [],
   "execution_count": 1
  },
  {
   "cell_type": "markdown",
   "id": "4e1cf67e-98d7-48bd-9867-f72be72e3f4a",
   "metadata": {},
   "source": [
    "Then let's split this text manually"
   ]
  },
  {
   "cell_type": "code",
   "id": "f11fb88f-17ed-44c2-b4de-a8a527fe63c7",
   "metadata": {
    "ExecuteTime": {
     "end_time": "2024-11-10T23:09:13.743094Z",
     "start_time": "2024-11-10T23:09:13.720182Z"
    }
   },
   "source": [
    "# Create a list that will hold your chunks\n",
    "chunks = []\n",
    "\n",
    "chunk_size = 35 # Characters\n",
    "\n",
    "# Run through the a range with the length of your text and iterate every chunk_size you want\n",
    "for i in range(0, len(text), chunk_size):\n",
    "    chunk = text[i:i + chunk_size]\n",
    "    chunks.append(chunk)\n",
    "chunks"
   ],
   "outputs": [
    {
     "data": {
      "text/plain": [
       "['This is the text I would like to ch',\n",
       " 'unk up. It is the example text for ',\n",
       " 'this exercise']"
      ]
     },
     "execution_count": 2,
     "metadata": {},
     "output_type": "execute_result"
    }
   ],
   "execution_count": 2
  },
  {
   "cell_type": "markdown",
   "id": "140085b7-c6af-4003-923c-73feb1825965",
   "metadata": {},
   "source": [
    "Congratulations! You just split your first text. We have long way to go but you're already making progress. Feel like a language model practitioner yet?\n",
    "\n",
    "When working with text in the language model world, we don't deal with raw strings. It is more common to work with documents. Documents are objects that hold the text you're concerned with, but also additional metadata which makes filtering and manipulation easier later.\n",
    "\n",
    "We could convert our list of strings into documents, but I'd rather start from scratch and create the docs.\n",
    "\n",
    "Let's load up LangChains `CharacterSplitter` to do this for us"
   ]
  },
  {
   "cell_type": "code",
   "id": "d85945f0-4a09-4bd9-bdb6-bafe03089053",
   "metadata": {
    "ExecuteTime": {
     "end_time": "2024-11-10T23:09:22.365853Z",
     "start_time": "2024-11-10T23:09:21.348944Z"
    }
   },
   "source": [
    "from langchain.text_splitter import CharacterTextSplitter"
   ],
   "outputs": [],
   "execution_count": 3
  },
  {
   "cell_type": "markdown",
   "id": "ff5f3c0a-09c9-45a9-8f47-d28baf22b201",
   "metadata": {},
   "source": [
    "Then let's load up this text splitter. I need to specify `chunk overlap` and `separator` or else we'll get funk results. We'll get into those next"
   ]
  },
  {
   "cell_type": "code",
   "id": "3dcbeb8d-c5a0-4047-8250-967313c20935",
   "metadata": {
    "ExecuteTime": {
     "end_time": "2024-11-10T23:09:26.749513Z",
     "start_time": "2024-11-10T23:09:26.743467Z"
    }
   },
   "source": [
    "text_splitter = CharacterTextSplitter(chunk_size = 35, chunk_overlap=0, separator='', strip_whitespace=False)"
   ],
   "outputs": [],
   "execution_count": 4
  },
  {
   "cell_type": "markdown",
   "id": "5ae25bbe-d7d1-44da-820b-3cd34a1cfc67",
   "metadata": {},
   "source": [
    "Then we can actually split our text via `create_documents`. Note: `create_documents` expects a list of texts, so if you just have a string (like we do) you'll need to wrap it in `[]`"
   ]
  },
  {
   "cell_type": "code",
   "id": "afe4945b-ce08-49aa-a5dc-65a0e59922f2",
   "metadata": {
    "ExecuteTime": {
     "end_time": "2024-11-10T23:09:29.877742Z",
     "start_time": "2024-11-10T23:09:29.868288Z"
    }
   },
   "source": [
    "text_splitter.create_documents([text])"
   ],
   "outputs": [
    {
     "data": {
      "text/plain": [
       "[Document(metadata={}, page_content='This is the text I would like to ch'),\n",
       " Document(metadata={}, page_content='unk up. It is the example text for '),\n",
       " Document(metadata={}, page_content='this exercise')]"
      ]
     },
     "execution_count": 5,
     "metadata": {},
     "output_type": "execute_result"
    }
   ],
   "execution_count": 5
  },
  {
   "cell_type": "markdown",
   "id": "331025f4-6ef4-4459-bcb6-df7824e78ce4",
   "metadata": {},
   "source": [
    "Notice how this time we have the same chunks, but they are in documents. These will play nicely with the rest of the LangChain world. Also notice how the trailing whitespace on the end of the 2nd chunk is missing. This is because LangChain removes it, see [this line](https://github.com/langchain-ai/langchain/blob/f36ef0739dbb548cabdb4453e6819fc3d826414f/libs/langchain/langchain/text_splitter.py#L167) for where they do it. You can avoid this with `strip_whitespace=False`"
   ]
  },
  {
   "cell_type": "markdown",
   "id": "1ed0f193-4098-4fb1-a42f-7f96cd182188",
   "metadata": {},
   "source": [
    "**Chunk Overlap & Separators**\n",
    "\n",
    "**Chunk overlap** will blend together our chunks so that the tail of Chunk #1 will be the same thing and the head of Chunk #2 and so on and so forth.\n",
    "\n",
    "This time I'll load up my overlap with a value of 4, this means 4 characters of overlap"
   ]
  },
  {
   "cell_type": "code",
   "id": "fc66f496-7b0d-4b2a-a43d-e8f06d58c934",
   "metadata": {
    "ExecuteTime": {
     "end_time": "2024-11-10T23:09:36.590746Z",
     "start_time": "2024-11-10T23:09:36.572867Z"
    }
   },
   "source": [
    "text_splitter = CharacterTextSplitter(chunk_size = 35, chunk_overlap=4, separator='')"
   ],
   "outputs": [],
   "execution_count": 6
  },
  {
   "cell_type": "code",
   "id": "fd5d7e36-b592-430e-9069-cc025c78d7ef",
   "metadata": {
    "ExecuteTime": {
     "end_time": "2024-11-10T23:09:37.885654Z",
     "start_time": "2024-11-10T23:09:37.881750Z"
    }
   },
   "source": [
    "text_splitter.create_documents([text])"
   ],
   "outputs": [
    {
     "data": {
      "text/plain": [
       "[Document(metadata={}, page_content='This is the text I would like to ch'),\n",
       " Document(metadata={}, page_content='o chunk up. It is the example text'),\n",
       " Document(metadata={}, page_content='ext for this exercise')]"
      ]
     },
     "execution_count": 7,
     "metadata": {},
     "output_type": "execute_result"
    }
   ],
   "execution_count": 7
  },
  {
   "cell_type": "markdown",
   "id": "dcd4aaa8-b90b-499e-b2d5-bc623b5bb751",
   "metadata": {},
   "source": [
    "Notice how we have the same chunks, but now there is overlap between 1 & 2 and 2 & 3. The 'o ch' on the tail of Chunk #1 matches the 'o ch' of the head of Chunk #2.\n",
    "\n",
    "I wanted a better way to visualize this, so I made [ChunkViz.com](www.chunkviz.com) to help show it. Here's what the same text looks like.\n",
    "\n",
    "<div style=\"text-align: center;\">\n",
    "    <img src=\"static/ChunkVizCharacter34_4_w_overlap.png\" alt=\"image\" style=\"max-width: 800px;\">\n",
    "</div>\n",
    "\n",
    "static/ChunkVizCharacterRecursive.png\n",
    "\n",
    "Check out how we have three colors, with two overlaping sections.\n",
    "\n",
    "**Separators** are character(s) sequences you would like to split on. Say you wanted to chunk your data at `ch`, you can specify it."
   ]
  },
  {
   "cell_type": "code",
   "id": "814ce9aa-17c3-4205-b433-2eae612c2225",
   "metadata": {
    "ExecuteTime": {
     "end_time": "2024-11-10T23:09:54.623297Z",
     "start_time": "2024-11-10T23:09:54.612456Z"
    }
   },
   "source": [
    "text_splitter = CharacterTextSplitter(chunk_size = 35, chunk_overlap=0, separator='ch')"
   ],
   "outputs": [],
   "execution_count": 8
  },
  {
   "cell_type": "code",
   "id": "bb759b1f-dab0-4f5e-a0c0-220374313da6",
   "metadata": {
    "ExecuteTime": {
     "end_time": "2024-11-10T23:09:55.987222Z",
     "start_time": "2024-11-10T23:09:55.963334Z"
    }
   },
   "source": [
    "text_splitter.create_documents([text])"
   ],
   "outputs": [
    {
     "data": {
      "text/plain": [
       "[Document(metadata={}, page_content='This is the text I would like to'),\n",
       " Document(metadata={}, page_content='unk up. It is the example text for this exercise')]"
      ]
     },
     "execution_count": 9,
     "metadata": {},
     "output_type": "execute_result"
    }
   ],
   "execution_count": 9
  },
  {
   "cell_type": "markdown",
   "id": "72c7ff4a-b6f0-4924-9a9c-2791dddc5b37",
   "metadata": {},
   "source": [
    "#### Llama Index\n",
    "\n",
    "[Llama Index](https://www.llamaindex.ai/) is a great choice for flexibility in the chunking and indexing process. They provide node relationships out of the box which can aid in retrieval later.\n",
    "\n",
    "Let's take a look at their sentence splitter. It is similar to the character splitter, but using its default settings, it'll split on sentences instead."
   ]
  },
  {
   "cell_type": "code",
   "id": "624832d6-f3fd-45c4-b52e-bbc86e5e3cd0",
   "metadata": {
    "ExecuteTime": {
     "end_time": "2024-11-10T23:13:46.952079Z",
     "start_time": "2024-11-10T23:13:40.493058Z"
    }
   },
   "source": [
    "from llama_index.core.text_splitter import SentenceSplitter\n",
    "from llama_index.core import SimpleDirectoryReader"
   ],
   "outputs": [],
   "execution_count": 11
  },
  {
   "cell_type": "markdown",
   "id": "b6e77494-a253-4414-b32d-2246fcb396ef",
   "metadata": {},
   "source": [
    "Load up your splitter"
   ]
  },
  {
   "cell_type": "code",
   "id": "ef9e6627-81a5-463d-9180-5ff2ff1d40f9",
   "metadata": {
    "ExecuteTime": {
     "end_time": "2024-11-10T23:13:50.323740Z",
     "start_time": "2024-11-10T23:13:50.207138Z"
    }
   },
   "source": [
    "splitter = SentenceSplitter(\n",
    "    chunk_size=200,\n",
    "    chunk_overlap=15,\n",
    ")"
   ],
   "outputs": [],
   "execution_count": 12
  },
  {
   "cell_type": "markdown",
   "id": "23214df1-064d-47ad-9058-f9a5f113b6cf",
   "metadata": {},
   "source": [
    "Load up your document"
   ]
  },
  {
   "cell_type": "code",
   "id": "7cafba29-b973-4b37-806f-6f4893eae02e",
   "metadata": {
    "ExecuteTime": {
     "end_time": "2024-11-10T23:14:04.016910Z",
     "start_time": "2024-11-10T23:14:03.970940Z"
    }
   },
   "source": [
    "documents = SimpleDirectoryReader(\n",
    "    input_files=[\"sample.txt\"]\n",
    ").load_data()\n",
    "\n"
   ],
   "outputs": [],
   "execution_count": 13
  },
  {
   "cell_type": "markdown",
   "id": "d2ceae08-1f5e-46bc-9d98-e95182fe8c3c",
   "metadata": {},
   "source": [
    "Create your nodes. Nodes are similar to documents but with more relationship data added to them."
   ]
  },
  {
   "cell_type": "code",
   "id": "52f9a2e2-3d56-4727-afce-c81c13089324",
   "metadata": {
    "ExecuteTime": {
     "end_time": "2024-11-10T23:14:08.288104Z",
     "start_time": "2024-11-10T23:14:08.272623Z"
    }
   },
   "source": [
    "nodes = splitter.get_nodes_from_documents(documents)"
   ],
   "outputs": [],
   "execution_count": 14
  },
  {
   "cell_type": "markdown",
   "id": "ec353aac-ea8f-421a-9895-0af8afdc08e0",
   "metadata": {},
   "source": [
    "Then let's take a look at one"
   ]
  },
  {
   "cell_type": "code",
   "id": "898a421f-54a0-45a4-8acb-c7087b6a883f",
   "metadata": {
    "ExecuteTime": {
     "end_time": "2024-11-10T23:14:11.525623Z",
     "start_time": "2024-11-10T23:14:11.522192Z"
    }
   },
   "source": [
    "nodes[0]"
   ],
   "outputs": [
    {
     "data": {
      "text/plain": [
       "TextNode(id_='c03b6e95-d95c-4007-83cb-8c16762cf3b2', embedding=None, metadata={'file_path': 'sample.txt', 'file_name': 'sample.txt', 'file_type': 'text/plain', 'file_size': 19079, 'creation_date': '2024-11-10', 'last_modified_date': '2024-11-10'}, excluded_embed_metadata_keys=['file_name', 'file_type', 'file_size', 'creation_date', 'last_modified_date', 'last_accessed_date'], excluded_llm_metadata_keys=['file_name', 'file_type', 'file_size', 'creation_date', 'last_modified_date', 'last_accessed_date'], relationships={<NodeRelationship.SOURCE: '1'>: RelatedNodeInfo(node_id='5a50f739-fe19-48b3-b8d5-5459640593d3', node_type=<ObjectType.DOCUMENT: '4'>, metadata={'file_path': 'sample.txt', 'file_name': 'sample.txt', 'file_type': 'text/plain', 'file_size': 19079, 'creation_date': '2024-11-10', 'last_modified_date': '2024-11-10'}, hash='c563195f90c3e504aebdff0d8ccd8458cfac20fa46a8f805c1ffb4359e30f81e'), <NodeRelationship.NEXT: '3'>: RelatedNodeInfo(node_id='edc14e11-39a6-491f-a271-069564b2f8c5', node_type=<ObjectType.TEXT: '1'>, metadata={}, hash='8701dcbf8d8e52423c190b325614a0aeadc0f2bc0dd3115680bd412ed7c2e824')}, text=\"I can do my standard setup, is that so far, we've\\n either assumed we knew where the block was immediately,\\n or I actually, in some of the notebooks,\\n I had the system pull on the output port that\\n was the cheat port, I call it, from the manipulation station.\\n So if you look closely at the manipulation station,\\n it tells you what you would get from the robot, which\\n are the IWA positions and the shunk positions.\\n It doesn't tell you directly--\\n I mean, there's no sensors saying where the block is yet.\\n But we have these cheat ports that\\n will tell you the position and the pose\\n of any object in the scene.\\n And so I was using that as a backdoor\\n to figure out where the brick started\\n and plan everything relative to that, or I just hardcoded it.\\n So today, we're going to stop using those.\", mimetype='text/plain', start_char_idx=0, end_char_idx=796, text_template='{metadata_str}\\n\\n{content}', metadata_template='{key}: {value}', metadata_seperator='\\n')"
      ]
     },
     "execution_count": 15,
     "metadata": {},
     "output_type": "execute_result"
    }
   ],
   "execution_count": 15
  },
  {
   "cell_type": "markdown",
   "id": "539aa1a2-67b8-4585-b0d3-306703ea856b",
   "metadata": {},
   "source": [
    "As you can see there is a lot more relationship data held within Llama Index's nodes. We'll talk about those later, I don't want to get ahead of ourselves\n",
    "\n",
    "Basic Character splitting is likely only useful for a few applications, maybe yours!\n",
    "\n",
    "## Level 2: Recursive Character Text Splitting\n",
    "<a id=\"RecursiveCharacterSplitting\"></a>\n",
    "Let's jump a level of complexity.\n",
    "\n",
    "The problem with Level #1 is that we don't take into account the structure of our document at all. We simply split by a fix number of characters.\n",
    "\n",
    "The Recursive Character Text Splitter helps with this. With it, we'll specify a series of separatators which will be used to split our docs.\n",
    "\n",
    "You can see the default separators for LangChain [here](https://github.com/langchain-ai/langchain/blob/9ef2feb6747f5a69d186bd623b569ad722829a5e/libs/langchain/langchain/text_splitter.py#L842). Let's take a look at them one by one.\n",
    "\n",
    "* \"\\n\\n\" - Double new line, or most commonly paragraph breaks\n",
    "* \"\\n\" - New lines\n",
    "* \" \" - Spaces\n",
    "* \"\" - Characters\n",
    "\n",
    "I'm not sure why a period (\".\") isn't included on the list, perhaps it is not universal enough? If you know, let me know.\n",
    "\n",
    "This is the swiss army knife of splitters and my first choice when mocking up a quick application. If you don't know which splitter to start with, this is a good first bet.\n",
    "\n",
    "Let's try it out"
   ]
  },
  {
   "cell_type": "code",
   "id": "49f42bea-3d06-404d-9f8c-f15f7ff7591b",
   "metadata": {
    "ExecuteTime": {
     "end_time": "2024-11-10T23:14:55.566527Z",
     "start_time": "2024-11-10T23:14:55.560988Z"
    }
   },
   "source": "from langchain.text_splitter import RecursiveCharacterTextSplitter",
   "outputs": [],
   "execution_count": 16
  },
  {
   "cell_type": "markdown",
   "id": "bb6f79f4-769b-474b-8d7d-19cb48407cd6",
   "metadata": {},
   "source": [
    "Then let's load up a larger piece of text"
   ]
  },
  {
   "cell_type": "code",
   "id": "0772695d-0c5e-4e19-bb69-14e9bd7a15a7",
   "metadata": {
    "ExecuteTime": {
     "end_time": "2024-11-10T23:15:36.962603Z",
     "start_time": "2024-11-10T23:15:36.959171Z"
    }
   },
   "source": "text = documents[0].text",
   "outputs": [],
   "execution_count": 17
  },
  {
   "cell_type": "markdown",
   "id": "9fbb158c-6bbe-4f49-95df-a8b43965a566",
   "metadata": {},
   "source": [
    "Now let's make our text splitter"
   ]
  },
  {
   "cell_type": "code",
   "id": "03ec54c4-bda6-4254-97dd-983775b1d729",
   "metadata": {
    "ExecuteTime": {
     "end_time": "2024-11-10T23:17:29.900833Z",
     "start_time": "2024-11-10T23:17:29.893845Z"
    }
   },
   "source": "text_splitter = RecursiveCharacterTextSplitter(chunk_size = 65, chunk_overlap=0, separators = [\"\\n\\n\", \"\\n\", \".\", \"\"])",
   "outputs": [],
   "execution_count": 20
  },
  {
   "cell_type": "code",
   "id": "887c7676-1e67-4084-94d3-59689eb399c6",
   "metadata": {
    "ExecuteTime": {
     "end_time": "2024-11-10T23:17:30.731400Z",
     "start_time": "2024-11-10T23:17:30.718485Z"
    }
   },
   "source": [
    "text_splitter.create_documents([text])"
   ],
   "outputs": [
    {
     "data": {
      "text/plain": [
       "[Document(metadata={}, page_content=\"I can do my standard setup, is that so far, we've\"),\n",
       " Document(metadata={}, page_content='either assumed we knew where the block was immediately,'),\n",
       " Document(metadata={}, page_content='or I actually, in some of the notebooks,'),\n",
       " Document(metadata={}, page_content='I had the system pull on the output port that'),\n",
       " Document(metadata={}, page_content='was the cheat port, I call it, from the manipulation station.'),\n",
       " Document(metadata={}, page_content='So if you look closely at the manipulation station,'),\n",
       " Document(metadata={}, page_content='it tells you what you would get from the robot, which'),\n",
       " Document(metadata={}, page_content='are the IWA positions and the shunk positions.'),\n",
       " Document(metadata={}, page_content=\"It doesn't tell you directly--\"),\n",
       " Document(metadata={}, page_content=\"I mean, there's no sensors saying where the block is yet.\"),\n",
       " Document(metadata={}, page_content='But we have these cheat ports that'),\n",
       " Document(metadata={}, page_content='will tell you the position and the pose'),\n",
       " Document(metadata={}, page_content='of any object in the scene.'),\n",
       " Document(metadata={}, page_content='And so I was using that as a backdoor'),\n",
       " Document(metadata={}, page_content='to figure out where the brick started'),\n",
       " Document(metadata={}, page_content='and plan everything relative to that, or I just hardcoded it.'),\n",
       " Document(metadata={}, page_content=\"So today, we're going to stop using those.\"),\n",
       " Document(metadata={}, page_content=\"We're going to instead use the cameras.\"),\n",
       " Document(metadata={}, page_content='So the cameras are the sensors that we have available'),\n",
       " Document(metadata={}, page_content='to see the world and to figure out where that red brick is.'),\n",
       " Document(metadata={}, page_content='And thus begins the conversation for perception.'),\n",
       " Document(metadata={}, page_content='So I mean, maybe it goes without saying,'),\n",
       " Document(metadata={}, page_content=\"but computer vision is hard.\\n It's been hard for a long time.\"),\n",
       " Document(metadata={}, page_content='It got a lot better in the last few years with deep learning.'),\n",
       " Document(metadata={}, page_content=\"But if you think about why it's hard\"),\n",
       " Document(metadata={}, page_content='and why it breaks a lot of the optimization type approaches'),\n",
       " Document(metadata={}, page_content='like we saw for kinematics, I would'),\n",
       " Document(metadata={}, page_content='say is because if you take the color'),\n",
       " Document(metadata={}, page_content='values of the pixels in an image,\\n this is a very bad space.'),\n",
       " Document(metadata={}, page_content='So RGB, the red, green, blue space,'),\n",
       " Document(metadata={}, page_content=\"the color values in an image, they\\n don't satisfy the sort of--\"),\n",
       " Document(metadata={}, page_content=\"it's hard to write optimization directly\"),\n",
       " Document(metadata={}, page_content='against the RGB values.\\n So you can have very nearby RGB values'),\n",
       " Document(metadata={}, page_content='that mean very different things in terms'),\n",
       " Document(metadata={}, page_content='of the geometry in the world and vice versa.'),\n",
       " Document(metadata={}, page_content='So you can change the lighting a lot,'),\n",
       " Document(metadata={}, page_content=\"and the brick's still in the same scene.\"),\n",
       " Document(metadata={}, page_content='The RGB values went all over the place.'),\n",
       " Document(metadata={}, page_content='So because of this, I would say there are two'),\n",
       " Document(metadata={}, page_content='major branches of perception for robotics.'),\n",
       " Document(metadata={}, page_content='One of them continues to use geometry'),\n",
       " Document(metadata={}, page_content='but uses a different type of cameras, which gives'),\n",
       " Document(metadata={}, page_content='direct geometry information.'),\n",
       " Document(metadata={}, page_content=\"I'm going to tell you a little bit about them.\"),\n",
       " Document(metadata={}, page_content='And the other is now sort of the more deep learning-based work.'),\n",
       " Document(metadata={}, page_content=\"I've separated into deep perception.\"),\n",
       " Document(metadata={}, page_content='Typically, it can work directly from RGB values,'),\n",
       " Document(metadata={}, page_content=\"and it's becoming highly effective.\"),\n",
       " Document(metadata={}, page_content='Now, even in the last year or so,'),\n",
       " Document(metadata={}, page_content=\"we're starting to see those two worlds collapse again.\"),\n",
       " Document(metadata={}, page_content='And people are doing like NERF, if people know what NERF is,'),\n",
       " Document(metadata={}, page_content='or deep SDF.'),\n",
       " Document(metadata={}, page_content=\"Or you're seeing deep learning using geometry representations\"),\n",
       " Document(metadata={}, page_content='and trying to combine those two again.'),\n",
       " Document(metadata={}, page_content=\"So it's not a surprise, maybe, but I'd\"),\n",
       " Document(metadata={}, page_content='say those two streams are interesting by themselves'),\n",
       " Document(metadata={}, page_content='and are going to be hopelessly intertwined into the future.'),\n",
       " Document(metadata={}, page_content=\"So I mean, I do think, though, it's important.\"),\n",
       " Document(metadata={}, page_content='Some people say deep learning is all you need'),\n",
       " Document(metadata={}, page_content='to do for perception right now.'),\n",
       " Document(metadata={}, page_content=\"And I just don't think that's true.\"),\n",
       " Document(metadata={}, page_content='I think there has been this other parallel revolution,'),\n",
       " Document(metadata={}, page_content='just as--\\n maybe not quite as dramatic as the deep learning.'),\n",
       " Document(metadata={}, page_content='But going on very much in parallel'),\n",
       " Document(metadata={}, page_content='and getting spectacular results has'),\n",
       " Document(metadata={}, page_content='been this geometric perception pipeline.'),\n",
       " Document(metadata={}, page_content=\"And that's sad, like really comically sad there.\\n OK.\\n Huh.\"),\n",
       " Document(metadata={}, page_content=\"I'm sorry, I shouldn't have unplugged that one.\"),\n",
       " Document(metadata={}, page_content='I just screwed up your stream, did I?'),\n",
       " Document(metadata={}, page_content='I meant to unplug this one.'),\n",
       " Document(metadata={}, page_content=\"Man, the number of technical problems I've managed to have.\"),\n",
       " Document(metadata={}, page_content=\"[AUDIO OUT]\\n, let's try.\\n [AUDIO OUT]\"),\n",
       " Document(metadata={}, page_content=\"Kind of ruined my flow, didn't it?\\n [AUDIO OUT]\\n [AUDIO OUT]\"),\n",
       " Document(metadata={}, page_content=\"It's going to make me register real quick.\"),\n",
       " Document(metadata={}, page_content=\"That's what I didn't do, I think.\\n [AUDIO OUT]\\n Good Lord.\"),\n",
       " Document(metadata={}, page_content='[AUDIO OUT]\\n [AUDIO OUT]'),\n",
       " Document(metadata={}, page_content=\"I'll just use my iPhone in a second here.\\n [AUDIO OUT]\"),\n",
       " Document(metadata={}, page_content=\"[AUDIO OUT]\\n I'm going to lecture off my iPhone.\"),\n",
       " Document(metadata={}, page_content='How about that?\\n [AUDIO OUT]\\n That works fine.\\n [AUDIO OUT]'),\n",
       " Document(metadata={}, page_content='It should not be better than the MIT network.\\n OK.'),\n",
       " Document(metadata={}, page_content='Sorry about that.'),\n",
       " Document(metadata={}, page_content=\"It's going to play the videos a little slower probably.\"),\n",
       " Document(metadata={}, page_content='[AUDIO OUT]'),\n",
       " Document(metadata={}, page_content=\"OK, so there's a second revolution-- sorry for that--\"),\n",
       " Document(metadata={}, page_content='based on geometric processing of the visual scene.'),\n",
       " Document(metadata={}, page_content=\"So you've probably seen incredible reconstructions\"),\n",
       " Document(metadata={}, page_content='from autonomous driving, driving through town,'),\n",
       " Document(metadata={}, page_content='and building beautiful maps.'),\n",
       " Document(metadata={}, page_content='This is sort of the indoor equivalent of the SLAM,'),\n",
       " Document(metadata={}, page_content='if you know, the simultaneous localization and mapping.'),\n",
       " Document(metadata={}, page_content='This one is called dynamic fusion.'),\n",
       " Document(metadata={}, page_content=\"It's in particular tracking objects\"),\n",
       " Document(metadata={}, page_content='that can change their shape or change their pose relative.'),\n",
       " Document(metadata={}, page_content=\"But it's just absolutely stunning\"),\n",
       " Document(metadata={}, page_content='that a handful of years ago, people'),\n",
       " Document(metadata={}, page_content='started being able to build this sort of quality'),\n",
       " Document(metadata={}, page_content='reconstruction of a 3D world from a camera'),\n",
       " Document(metadata={}, page_content='that you can fit in your pocket.'),\n",
       " Document(metadata={}, page_content=\"In fact, I've got one in my pocket right here.\"),\n",
       " Document(metadata={}, page_content='Yeah, look at that.\\n These kind of cameras, right?'),\n",
       " Document(metadata={}, page_content=\"I don't always have them in my pocket.\"),\n",
       " Document(metadata={}, page_content=\"But-- oh, that's not true actually,\"),\n",
       " Document(metadata={}, page_content='because I do always have one in my pocket.'),\n",
       " Document(metadata={}, page_content=\"There's one right there too, right?\\n Which is pretty awesome.\"),\n",
       " Document(metadata={}, page_content='So that has been fueled by a lot of different things.'),\n",
       " Document(metadata={}, page_content='I mean, robotics is a good enterprise.'),\n",
       " Document(metadata={}, page_content='But I would say robotics by itself'),\n",
       " Document(metadata={}, page_content='might not have been enough fuel for this.'),\n",
       " Document(metadata={}, page_content='But now augmented reality, like Facebook Labs,'),\n",
       " Document(metadata={}, page_content='is working on this.\\n It was originally Oculus.'),\n",
       " Document(metadata={}, page_content='And the people that did this work became Oculus,'),\n",
       " Document(metadata={}, page_content='became Facebook Reality Labs.'),\n",
       " Document(metadata={}, page_content=\"So it's being powered by those kind of revolutions.\"),\n",
       " Document(metadata={}, page_content=\"So let's just think a little bit about these different types\"),\n",
       " Document(metadata={}, page_content='of sensors, and why are they different than a standard'),\n",
       " Document(metadata={}, page_content='camera, and why did they help robotics jump into the'),\n",
       " Document(metadata={}, page_content='perception age, I would say.'),\n",
       " Document(metadata={}, page_content=\"There's a couple different types out there.\"),\n",
       " Document(metadata={}, page_content=\"You've probably heard of LIDAR, the laser range finders.\"),\n",
       " Document(metadata={}, page_content=\"These are based on time of flight, where they're actually\"),\n",
       " Document(metadata={}, page_content='shooting out an active laser, and then waiting for the'),\n",
       " Document(metadata={}, page_content='return, and measuring the distance.'),\n",
       " Document(metadata={}, page_content='And some of these are just crazy good, right?'),\n",
       " Document(metadata={}, page_content='So even a year ago, there was these 500 meter range luminars'),\n",
       " Document(metadata={}, page_content='coming out where a car can drive through it.'),\n",
       " Document(metadata={}, page_content='It can basically see the whole city, it feels like.'),\n",
       " Document(metadata={}, page_content=\"And it's just building highly accurate geometric models as\"),\n",
       " Document(metadata={}, page_content=\"it's driving down the street.\\n It's crazy good.\"),\n",
       " Document(metadata={}, page_content='And you see these kind of--'),\n",
       " Document(metadata={}, page_content=\"I don't know if that's actually processed, or that\"),\n",
       " Document(metadata={}, page_content='could just be a raw return.'),\n",
       " Document(metadata={}, page_content='Some of the raw returns from these cameras'),\n",
       " Document(metadata={}, page_content='just look spectacular.'),\n",
       " Document(metadata={}, page_content=\"I mean, the resolution degrades the farther you go, but it's\"),\n",
       " Document(metadata={}, page_content='still crazy good.'),\n",
       " Document(metadata={}, page_content='And when these started happening, this started'),\n",
       " Document(metadata={}, page_content='powering a lot of the geometric work in robotics\\n perception.'),\n",
       " Document(metadata={}, page_content='Stereo imaging is still a thing.'),\n",
       " Document(metadata={}, page_content=\"It's an important thing, where you'll see stereo heads that\"),\n",
       " Document(metadata={}, page_content='were the classic approach to building\\n sensors for perception.'),\n",
       " Document(metadata={}, page_content='This is actually the Carnegie head, which is stuck in the'),\n",
       " Document(metadata={}, page_content='middle of Atlas, which is the humanoid robot from at least'),\n",
       " Document(metadata={}, page_content='the version of Atlas we have upstairs, carried around this'),\n",
       " Document(metadata={}, page_content='stereo pair head.'),\n",
       " Document(metadata={}, page_content=\"And basically, the basic principle, there's two cameras.\"),\n",
       " Document(metadata={}, page_content=\"And it's comparing the two images, trying to find similar\"),\n",
       " Document(metadata={}, page_content='blocks in the left and right image, and then saying how'),\n",
       " Document(metadata={}, page_content='different are those blocks in the image using the distance'),\n",
       " Document(metadata={}, page_content='between the lenses and figuring out the depth.'),\n",
       " Document(metadata={}, page_content=\"There's many different ways to do it, but basically, a simple\"),\n",
       " Document(metadata={}, page_content='block matching stereo is a perfectly good way to do it.'),\n",
       " Document(metadata={}, page_content='Each of these have different pros and cons.'),\n",
       " Document(metadata={}, page_content=\"I'll tell you about the ones we picked.\"),\n",
       " Document(metadata={}, page_content=\"I'll tell you most about the one we picked.\"),\n",
       " Document(metadata={}, page_content='Structured light, it was the Microsoft\\n Kinect came out.'),\n",
       " Document(metadata={}, page_content='This was considered a major advance for indoor.'),\n",
       " Document(metadata={}, page_content='LiDAR was traditionally considered for outdoor'),\n",
       " Document(metadata={}, page_content='applications, and it works in natural light, whereas the'),\n",
       " Document(metadata={}, page_content='Kinect was one of the first things that powered the indoor'),\n",
       " Document(metadata={}, page_content='perception revolution.'),\n",
       " Document(metadata={}, page_content='And the fact that they became so cheap because they were'),\n",
       " Document(metadata={}, page_content='sold with game consoles was a big, big deal.'),\n",
       " Document(metadata={}, page_content='I think that really opened up the number of people that were'),\n",
       " Document(metadata={}, page_content='playing with them and just really\\n bootstrapped the research.'),\n",
       " Document(metadata={}, page_content=\"So the structured light approach is you're projecting\"),\n",
       " Document(metadata={}, page_content='some image onto the scene, which allows you to then, by'),\n",
       " Document(metadata={}, page_content='taking a picture, have far more information than you'),\n",
       " Document(metadata={}, page_content='would have had with just random pixels coming in.'),\n",
       " Document(metadata={}, page_content=\"But the one that we're going to use that I have in my\"),\n",
       " Document(metadata={}, page_content='pocket here is an Intel RealSense D415.'),\n",
       " Document(metadata={}, page_content=\"They're pretty small, pretty nice.\"),\n",
       " Document(metadata={}, page_content='This is actually a projected texture stereo.'),\n",
       " Document(metadata={}, page_content='The RealSense line and the Intel line has a handful of'),\n",
       " Document(metadata={}, page_content='different technologies, but this is the projected texture'),\n",
       " Document(metadata={}, page_content='stereo version.'),\n",
       " Document(metadata={}, page_content=\"So it's basically a stereo camera, except that it's also\"),\n",
       " Document(metadata={}, page_content=\"got a little projector, obviously, that's just pushing\"),\n",
       " Document(metadata={}, page_content='out some pattern of light.\\n So that if you were to look at--'),\n",
       " Document(metadata={}, page_content='if you take stereo images of a purely white wall, then'),\n",
       " Document(metadata={}, page_content=\"there's nothing that it could possibly do to compare those\"),\n",
       " Document(metadata={}, page_content='images to get a reasonable depth.'),\n",
       " Document(metadata={}, page_content='But if you project an invisible pattern, an IR pattern even,'),\n",
       " Document(metadata={}, page_content=\"on the wall, then there's still something that it can\"),\n",
       " Document(metadata={}, page_content='see in order to get good depth information.'),\n",
       " Document(metadata={}, page_content='And in general, it reduces the reliance on the textures in'),\n",
       " Document(metadata={}, page_content=\"the world, because it's providing its own texture.\"),\n",
       " Document(metadata={}, page_content='Compared to things like LiDAR and other time of flight'),\n",
       " Document(metadata={}, page_content='technologies, one of the reasons we like this is'),\n",
       " Document(metadata={}, page_content=\"because they don't interfere with each other.\"),\n",
       " Document(metadata={}, page_content=\"So it actually doesn't care what the--\"),\n",
       " Document(metadata={}, page_content=\"so compared to the structured light, where it's trying to\"),\n",
       " Document(metadata={}, page_content=\"set up a certain pattern out, this one's just putting out\"),\n",
       " Document(metadata={}, page_content='any old pattern.\\n It just wants to have texture.'),\n",
       " Document(metadata={}, page_content=\"It doesn't care--\\n it's not trying to match a specific pattern.\"),\n",
       " Document(metadata={}, page_content=\"It's just trying to make sure that there's not\"),\n",
       " Document(metadata={}, page_content='sameness everywhere.'),\n",
       " Document(metadata={}, page_content='So if you have two cameras pointing at the same scene,'),\n",
       " Document(metadata={}, page_content=\"and they're both projecting texture, no big deal.\"),\n",
       " Document(metadata={}, page_content=\"It's still getting good returns.\"),\n",
       " Document(metadata={}, page_content='Whereas a lot of the other cameras before that, you had'),\n",
       " Document(metadata={}, page_content='to really synchronize your multiple cameras to make sure'),\n",
       " Document(metadata={}, page_content=\"they weren't hitting--\\n sending active pulses at the same time.\"),\n",
       " Document(metadata={}, page_content='It was a major, major pain.\\n And we do use multiple cameras.'),\n",
       " Document(metadata={}, page_content=\"I'll show you in a minute the number of cameras we put\"),\n",
       " Document(metadata={}, page_content='around that dish-loading example.\\n But this is new news.'),\n",
       " Document(metadata={}, page_content='This is August 17th this year.\\n Super sad.'),\n",
       " Document(metadata={}, page_content=\"I don't really use emojis, but I almost put a sad emoji on\"),\n",
       " Document(metadata={}, page_content=\"here, right?\\n I don't really know what I'm going to do.\"),\n",
       " Document(metadata={}, page_content=\"But it's really bad news for the field.\\n I mean, we're bummed.\"),\n",
       " Document(metadata={}, page_content=\"There's not a great replacement yet.\"),\n",
       " Document(metadata={}, page_content=\"I mean, there's more technologies out there, but\"),\n",
       " Document(metadata={}, page_content='the RealSense has become a favorite for sure.'),\n",
       " Document(metadata={}, page_content=\"And I think we're--\\n I don't know.\"),\n",
       " Document(metadata={}, page_content=\"We're just too small as a field to matter.\"),\n",
       " Document(metadata={}, page_content=\"But they're selling them, but I guess they're\"),\n",
       " Document(metadata={}, page_content='not selling enough.'),\n",
       " Document(metadata={}, page_content=\"So I don't know what we'll be using next year in class.\"),\n",
       " Document(metadata={}, page_content=\"But we've got a bunch of RealSenses.\"),\n",
       " Document(metadata={}, page_content=\"We're going to hang on to them, keep using them as long\"),\n",
       " Document(metadata={}, page_content='as we can.\\n OK.'),\n",
       " Document(metadata={}, page_content='So we have the ability to simulate these cameras, of'),\n",
       " Document(metadata={}, page_content='course, in the simulation.'),\n",
       " Document(metadata={}, page_content='But we simulate them in various levels of fidelity.\\n OK?'),\n",
       " Document(metadata={}, page_content=\"So the simplest one, and the one we'll use for most of the\"),\n",
       " Document(metadata={}, page_content='class, is just a standard OpenGL renderer.\\n OK?'),\n",
       " Document(metadata={}, page_content=\"So OpenGL is sort of the basic graphics language that's\"),\n",
       " Document(metadata={}, page_content='existed forever.'),\n",
       " Document(metadata={}, page_content=\"It's not particularly fancy in the way it does lighting.\"),\n",
       " Document(metadata={}, page_content=\"Or it's capable, but not compared to the new game\"),\n",
       " Document(metadata={}, page_content=\"engine quality technologies.\\n But it's fast.\"),\n",
       " Document(metadata={}, page_content=\"And it's got GPU acceleration.\"),\n",
       " Document(metadata={}, page_content=\"And it's definitely faster than real time.\\n OK.\"),\n",
       " Document(metadata={}, page_content='So let me just step you through.'),\n",
       " Document(metadata={}, page_content='This is just a diagram from a very simple system that has an'),\n",
       " Document(metadata={}, page_content='object, a single object in the scene.'),\n",
       " Document(metadata={}, page_content=\"Turns out it's a mustard bottle.\\n OK.\"),\n",
       " Document(metadata={}, page_content=\"And so we've got a multi-body plant, which is just holding\"),\n",
       " Document(metadata={}, page_content='the mustard bottle, not doing anything interesting.'),\n",
       " Document(metadata={}, page_content=\"We've got the scene graph, which is the geometry engine.\"),\n",
       " Document(metadata={}, page_content='And we now can take an RGB sensor and add a new sensor'),\n",
       " Document(metadata={}, page_content='into the diagram.\\n It hooks right up to the scene graph.\\n OK.'),\n",
       " Document(metadata={}, page_content=\"It's just another system.\\n It reads geometry.\"),\n",
       " Document(metadata={}, page_content='It has a message passing with the scene graph to get the'),\n",
       " Document(metadata={}, page_content='geometry information.'),\n",
       " Document(metadata={}, page_content='And it spits out color image, but also depth image in a'),\n",
       " Document(metadata={}, page_content='couple different channels.'),\n",
       " Document(metadata={}, page_content='And a label image for when you want to train your machine'),\n",
       " Document(metadata={}, page_content='learning algorithms.'),\n",
       " Document(metadata={}, page_content='You can say per pixel what object is it associated with.'),\n",
       " Document(metadata={}, page_content='And you can have it spit out the pose of the sensor.\\n OK.'),\n",
       " Document(metadata={}, page_content='So RGBD for red, green, blue, and depth sensors.'),\n",
       " Document(metadata={}, page_content=\"It's just one more channel that gives you a\\n depth signal back.\"),\n",
       " Document(metadata={}, page_content='OK.\\n And the images that come out are the standard--'),\n",
       " Document(metadata={}, page_content='you take the first three channels, the\\n standard RGB images.'),\n",
       " Document(metadata={}, page_content='You get something that looks like this out.'),\n",
       " Document(metadata={}, page_content=\"There's a little mustard bottle.\"),\n",
       " Document(metadata={}, page_content=\"And then there's an image that's the same number of\"),\n",
       " Document(metadata={}, page_content='pixels, the same size, which just says for every pixel,'),\n",
       " Document(metadata={}, page_content=\"what's the distance to the object in the scene?\"),\n",
       " Document(metadata={}, page_content=\"The first return, right?\\n Or NAN if it's too far.\"),\n",
       " Document(metadata={}, page_content=\"Actually, it's not NAN.\\n There's a particular integer for that.\"),\n",
       " Document(metadata={}, page_content=\"OK.\\n So you'll see this come slowly into MeshCat here.\"),\n",
       " Document(metadata={}, page_content='So in MeshCat, you can push the point clouds out to the'),\n",
       " Document(metadata={}, page_content='renderer, too.'),\n",
       " Document(metadata={}, page_content='So first of all, I drew the camera with the camera'),\n",
       " Document(metadata={}, page_content='coordinates here.\\n So you can see red, green, blue, remember?'),\n",
       " Document(metadata={}, page_content='So x, y, z.\\n Right?'),\n",
       " Document(metadata={}, page_content='So in order to get the images that we saw, we wanted the'),\n",
       " Document(metadata={}, page_content='camera oriented like this.'),\n",
       " Document(metadata={}, page_content=\"It's a little bit hard to think about.\"),\n",
       " Document(metadata={}, page_content='I put it at a little bit of a tilt in order to get a little'),\n",
       " Document(metadata={}, page_content='bit of an angle on the shot.\\n OK?'),\n",
       " Document(metadata={}, page_content='But you can go in and navigate through MeshCat.'),\n",
       " Document(metadata={}, page_content='You can turn on and off the geometry from scene graph.'),\n",
       " Document(metadata={}, page_content='And you can turn on and off the point cloud.'),\n",
       " Document(metadata={}, page_content=\"But there's a point cloud in there giving you the same sort\"),\n",
       " Document(metadata={}, page_content='of the raw information, I guess, from the cameras.\\n Right?'),\n",
       " Document(metadata={}, page_content='Now, the camera only sees one side of the object.\\n Right?'),\n",
       " Document(metadata={}, page_content=\"And that's a big part of what we have to take care of in\"),\n",
       " Document(metadata={}, page_content='perception is the fact that we only get partial views.\\n Right?'),\n",
       " Document(metadata={}, page_content=\"So it's not going to be enough to assume you could see all\"),\n",
       " Document(metadata={}, page_content='parts of the object and match all parts of the object.'),\n",
       " Document(metadata={}, page_content='When you have occlusions, when you have multiple objects in'),\n",
       " Document(metadata={}, page_content='the scene, it gets even worse.'),\n",
       " Document(metadata={}, page_content='And the best perception systems can do a lot with very'),\n",
       " Document(metadata={}, page_content='partial views.\\n OK.'),\n",
       " Document(metadata={}, page_content='I said we like to just not worry about the cameras'),\n",
       " Document(metadata={}, page_content='interfering.\\n OK?'),\n",
       " Document(metadata={}, page_content='But this is a little ridiculous, I would say.'),\n",
       " Document(metadata={}, page_content=\"We just didn't want to worry about whether we had enough\"),\n",
       " Document(metadata={}, page_content='cameras or we wanted to avoid partial views as much as'),\n",
       " Document(metadata={}, page_content='possible, so we put a bunch of cameras all over the place.'),\n",
       " Document(metadata={}, page_content='And we would do things like use some cameras to train the'),\n",
       " Document(metadata={}, page_content='other cameras.\\n There were multiple reasons for it.'),\n",
       " Document(metadata={}, page_content='But we instrumented the world with plenty of cameras, OK?'),\n",
       " Document(metadata={}, page_content='Including two on the wrist.\\n Right?'),\n",
       " Document(metadata={}, page_content=\"So right on the wrist of the robot, there's\\n two right there.\"),\n",
       " Document(metadata={}, page_content=\"We'll mount them in various places.\"),\n",
       " Document(metadata={}, page_content='The robot that we tried to bring in--'),\n",
       " Document(metadata={}, page_content='we successfully brought the robot in, but the cage had to'),\n",
       " Document(metadata={}, page_content='be disassembled.\\n And the cage had--'),\n",
       " Document(metadata={}, page_content='the standard cage we had around it was there primarily to hold'),\n",
       " Document(metadata={}, page_content='the cameras in fixed locations and have a nice view down into'),\n",
       " Document(metadata={}, page_content='the scene.'),\n",
       " Document(metadata={}, page_content=\"So we're going to talk mostly today about relatively\"),\n",
       " Document(metadata={}, page_content='simple-- like clean point clouds.'),\n",
       " Document(metadata={}, page_content='And thinking about what you do if the point clouds are giving'),\n",
       " Document(metadata={}, page_content='you pure geometry information.'),\n",
       " Document(metadata={}, page_content=\"But next time, we're going to go into the fact that the real\"),\n",
       " Document(metadata={}, page_content=\"point clouds are pretty messy.\\n OK?\\n So I'm just--\"),\n",
       " Document(metadata={}, page_content=\"introduce the idea of it here, but we're going to dig more\"),\n",
       " Document(metadata={}, page_content='into it with our methods next time.'),\n",
       " Document(metadata={}, page_content='So this is a simulated depth return for\\n this kind of a scene.'),\n",
       " Document(metadata={}, page_content='OK?\\n And this is what you actually get out of'),\n",
       " Document(metadata={}, page_content=\"the real depth camera.\\n Now you notice it's not Gaussian noise.\"),\n",
       " Document(metadata={}, page_content=\"OK?\\n So it's not like I take every pixel and I pull a random\"),\n",
       " Document(metadata={}, page_content='number and I change the depth value by some Gaussian number.'),\n",
       " Document(metadata={}, page_content=\"It's much more stereotypical than that.\"),\n",
       " Document(metadata={}, page_content='It tends to happen on the edges of objects, right?'),\n",
       " Document(metadata={}, page_content='Where the normals are not very incident to the camera.\\n OK?'),\n",
       " Document(metadata={}, page_content=\"That's a typical place where you don't get good returns or\"),\n",
       " Document(metadata={}, page_content=\"don't get good depth images.\"),\n",
       " Document(metadata={}, page_content=\"Or if one camera can't-- or if both cameras can't see the\"),\n",
       " Document(metadata={}, page_content=\"side of an object or something like that.\\n There's other--\"),\n",
       " Document(metadata={}, page_content=\"so transparent or reflective surfaces are all-- there's\"),\n",
       " Document(metadata={}, page_content='things like this that are the canonical bad'),\n",
       " Document(metadata={}, page_content='cases for these cameras.'),\n",
       " Document(metadata={}, page_content='There was a great project actually by the same Facebook'),\n",
       " Document(metadata={}, page_content='group where they were mapping the inside of homes and they'),\n",
       " Document(metadata={}, page_content='wanted to build these beautiful 3D\\n maps of indoor homes.'),\n",
       " Document(metadata={}, page_content='And the problem is people have windows and'),\n",
       " Document(metadata={}, page_content='people have mirrors.\\n So they actually--'),\n",
       " Document(metadata={}, page_content=\"they had a very clever--\\n I'll actually talk about it later.\"),\n",
       " Document(metadata={}, page_content='But they have a very clever trick for figuring out how to'),\n",
       " Document(metadata={}, page_content='work with mirrors and windows.'),\n",
       " Document(metadata={}, page_content='OK, so this is just an example--'),\n",
       " Document(metadata={}, page_content='another example of-- this is the D415 where Cooney is'),\n",
       " Document(metadata={}, page_content='looking at some Legos and vegetables and random stuff on'),\n",
       " Document(metadata={}, page_content='his table, OK?'),\n",
       " Document(metadata={}, page_content='But if you scroll around the 3D-- the same way I scrolled'),\n",
       " Document(metadata={}, page_content=\"around the mustard bottle, he's got the camera above.\"),\n",
       " Document(metadata={}, page_content=\"The camera's not moving.\"),\n",
       " Document(metadata={}, page_content=\"This is just looking at the point cloud that's coming out\"),\n",
       " Document(metadata={}, page_content='from different angles.'),\n",
       " Document(metadata={}, page_content=\"I would say there's one word that everybody always uses\"),\n",
       " Document(metadata={}, page_content='when they talk about the point clouds out of D415--\\n lumpy.'),\n",
       " Document(metadata={}, page_content=\"Everybody says lumpy.\\n It's like--\"),\n",
       " Document(metadata={}, page_content=\"it doesn't seem like a word that would come to--\"),\n",
       " Document(metadata={}, page_content=\"but I've heard a lot of people say, yeah, yeah, those are\"),\n",
       " Document(metadata={}, page_content='lumpy point clouds.'),\n",
       " Document(metadata={}, page_content='And it just has this characteristic ripple, OK?'),\n",
       " Document(metadata={}, page_content='And if your carrots or whatever are like about the'),\n",
       " Document(metadata={}, page_content='same size as your lumps, things get pretty dicey.'),\n",
       " Document(metadata={}, page_content=\"So that wasn't meant to be a joke.\\n OK.\\n So that's our setup.\"),\n",
       " Document(metadata={}, page_content=\"Let's start thinking about how to do work with point clouds\"),\n",
       " Document(metadata={}, page_content='and how to go from depth to point clouds and why, as you'),\n",
       " Document(metadata={}, page_content='can see here, that thinking about point clouds is actually'),\n",
       " Document(metadata={}, page_content='a kinematics problem.'),\n",
       " Document(metadata={}, page_content='So I hope it blends nicely from what we did last time.\\n OK.'),\n",
       " Document(metadata={}, page_content=\"I'll start here.\"),\n",
       " Document(metadata={}, page_content=\"So there's many representations of 3D data, of\"),\n",
       " Document(metadata={}, page_content='3D geometry, let me say.\\n OK.'),\n",
       " Document(metadata={}, page_content='The one that we were just illustrating there is called a'),\n",
       " Document(metadata={}, page_content='point cloud.\\n OK.\\n So typically, this would be a--'),\n",
       " Document(metadata={}, page_content=\"let's say a 3 by n matrix, OK, where this is the x, y, z\"),\n",
       " Document(metadata={}, page_content='positions in a Cartesian frame.'),\n",
       " Document(metadata={}, page_content='And this is the number of pixels or number of points.\\n OK.'),\n",
       " Document(metadata={}, page_content='It can also be--\\n you can also have RGB values.'),\n",
       " Document(metadata={}, page_content='You can also have normal information.'),\n",
       " Document(metadata={}, page_content='There are a couple other things that you can--'),\n",
       " Document(metadata={}, page_content='extra information you can add to the point cloud.'),\n",
       " Document(metadata={}, page_content=\"But the first thing we'll think about is just x, y, z\"),\n",
       " Document(metadata={}, page_content='positions in space that are a point that I got from a--'),\n",
       " Document(metadata={}, page_content='indirectly from a depth camera.\\n OK.'),\n",
       " Document(metadata={}, page_content='I mean, a depth image, like we got directly out of the'),\n",
       " Document(metadata={}, page_content='camera, is also, in some sense, a'),\n",
       " Document(metadata={}, page_content=\"representation of 3D geometry.\\n But it's not enough by itself.\"),\n",
       " Document(metadata={}, page_content=\"You also need to know, let's say, the camera info.\"),\n",
       " Document(metadata={}, page_content=\"I'll get more detailed about that later.\"),\n",
       " Document(metadata={}, page_content='But in order to turn that 2D image into a 3D point cloud,'),\n",
       " Document(metadata={}, page_content='you need to know something about the geometry of the'),\n",
       " Document(metadata={}, page_content='camera, and potentially even the location in space.'),\n",
       " Document(metadata={}, page_content='There are other representations of 3D\\n geometry, too.'),\n",
       " Document(metadata={}, page_content='I mean, you can do triangular meshes.'),\n",
       " Document(metadata={}, page_content='Some of you will have heard of signed distance'),\n",
       " Document(metadata={}, page_content='representations.'),\n",
       " Document(metadata={}, page_content='And this has led to things like NERF, which I will say'),\n",
       " Document(metadata={}, page_content='more carefully later.'),\n",
       " Document(metadata={}, page_content='Voxel grids are another one, or occupancy grids.\\n OK.'),\n",
       " Document(metadata={}, page_content='So for the most part, I want you to--'),\n",
       " Document(metadata={}, page_content=\"we're going to think about these kind of the same way we\"),\n",
       " Document(metadata={}, page_content='thought about rotations, where there are many, many'),\n",
       " Document(metadata={}, page_content='different types of representations for the\\n geometry.')]"
      ]
     },
     "execution_count": 21,
     "metadata": {},
     "output_type": "execute_result"
    }
   ],
   "execution_count": 21
  },
  {
   "cell_type": "markdown",
   "id": "3fa00043-1655-4113-bb28-f3a998d5713a",
   "metadata": {},
   "source": [
    "Notice how now there are more chunks that end with a period \".\". This is because those likely are the end of a paragraph and the splitter first looks for double new lines (paragraph break).\n",
    "\n",
    "Once paragraphs are split, then it looks at the chunk size, if a chunk is too big, then it'll split by the next separator. If the chunk is still too big, then it'll move onto the next one and so forth.\n",
    "\n",
    "For text of this size, let's split on something bigger."
   ]
  },
  {
   "cell_type": "code",
   "id": "6da8734e-47da-4a08-8459-9bf8bfed7fe4",
   "metadata": {
    "ExecuteTime": {
     "end_time": "2024-11-10T23:18:56.425088Z",
     "start_time": "2024-11-10T23:18:56.411263Z"
    }
   },
   "source": [
    "text_splitter = RecursiveCharacterTextSplitter(chunk_size = 1000, chunk_overlap=1, separators = [\"\\n\\n\", \"\\n\", \".\", \"\"])\n",
    "text_splitter.create_documents([text])"
   ],
   "outputs": [
    {
     "data": {
      "text/plain": [
       "[Document(metadata={}, page_content=\"I can do my standard setup, is that so far, we've\\n either assumed we knew where the block was immediately,\\n or I actually, in some of the notebooks,\\n I had the system pull on the output port that\\n was the cheat port, I call it, from the manipulation station.\\n So if you look closely at the manipulation station,\\n it tells you what you would get from the robot, which\\n are the IWA positions and the shunk positions.\\n It doesn't tell you directly--\\n I mean, there's no sensors saying where the block is yet.\\n But we have these cheat ports that\\n will tell you the position and the pose\\n of any object in the scene.\\n And so I was using that as a backdoor\\n to figure out where the brick started\\n and plan everything relative to that, or I just hardcoded it.\\n So today, we're going to stop using those.\\n We're going to instead use the cameras.\\n So the cameras are the sensors that we have available\\n to see the world and to figure out where that red brick is.\"),\n",
       " Document(metadata={}, page_content=\"And thus begins the conversation for perception.\\n So I mean, maybe it goes without saying,\\n but computer vision is hard.\\n It's been hard for a long time.\\n It got a lot better in the last few years with deep learning.\\n But if you think about why it's hard\\n and why it breaks a lot of the optimization type approaches\\n like we saw for kinematics, I would\\n say is because if you take the color\\n values of the pixels in an image,\\n this is a very bad space.\\n So RGB, the red, green, blue space,\\n the color values in an image, they\\n don't satisfy the sort of--\\n it's hard to write optimization directly\\n against the RGB values.\\n So you can have very nearby RGB values\\n that mean very different things in terms\\n of the geometry in the world and vice versa.\\n So you can change the lighting a lot,\\n and the brick's still in the same scene.\\n The RGB values went all over the place.\\n So because of this, I would say there are two\\n major branches of perception for robotics.\"),\n",
       " Document(metadata={}, page_content=\"One of them continues to use geometry\\n but uses a different type of cameras, which gives\\n direct geometry information.\\n I'm going to tell you a little bit about them.\\n And the other is now sort of the more deep learning-based work.\\n I've separated into deep perception.\\n Typically, it can work directly from RGB values,\\n and it's becoming highly effective.\\n Now, even in the last year or so,\\n we're starting to see those two worlds collapse again.\\n And people are doing like NERF, if people know what NERF is,\\n or deep SDF.\\n Or you're seeing deep learning using geometry representations\\n and trying to combine those two again.\\n So it's not a surprise, maybe, but I'd\\n say those two streams are interesting by themselves\\n and are going to be hopelessly intertwined into the future.\\n So I mean, I do think, though, it's important.\\n Some people say deep learning is all you need\\n to do for perception right now.\\n And I just don't think that's true.\"),\n",
       " Document(metadata={}, page_content=\"I think there has been this other parallel revolution,\\n just as--\\n maybe not quite as dramatic as the deep learning.\\n But going on very much in parallel\\n and getting spectacular results has\\n been this geometric perception pipeline.\\n And that's sad, like really comically sad there.\\n OK.\\n Huh.\\n I'm sorry, I shouldn't have unplugged that one.\\n I just screwed up your stream, did I?\\n I meant to unplug this one.\\n Man, the number of technical problems I've managed to have.\\n [AUDIO OUT]\\n, let's try.\\n [AUDIO OUT]\\n Kind of ruined my flow, didn't it?\\n [AUDIO OUT]\\n [AUDIO OUT]\\n It's going to make me register real quick.\\n That's what I didn't do, I think.\\n [AUDIO OUT]\\n Good Lord.\\n [AUDIO OUT]\\n [AUDIO OUT]\\n I'll just use my iPhone in a second here.\\n [AUDIO OUT]\\n [AUDIO OUT]\\n I'm going to lecture off my iPhone.\\n How about that?\\n [AUDIO OUT]\\n That works fine.\\n [AUDIO OUT]\\n It should not be better than the MIT network.\\n OK.\\n Sorry about that.\\n It's going to play the videos a little slower probably.\"),\n",
       " Document(metadata={}, page_content=\"[AUDIO OUT]\\n OK, so there's a second revolution-- sorry for that--\\n based on geometric processing of the visual scene.\\n So you've probably seen incredible reconstructions\\n from autonomous driving, driving through town,\\n and building beautiful maps.\\n This is sort of the indoor equivalent of the SLAM,\\n if you know, the simultaneous localization and mapping.\\n This one is called dynamic fusion.\\n It's in particular tracking objects\\n that can change their shape or change their pose relative.\\n But it's just absolutely stunning\\n that a handful of years ago, people\\n started being able to build this sort of quality\\n reconstruction of a 3D world from a camera\\n that you can fit in your pocket.\\n In fact, I've got one in my pocket right here.\\n Yeah, look at that.\\n These kind of cameras, right?\\n I don't always have them in my pocket.\\n But-- oh, that's not true actually,\\n because I do always have one in my pocket.\\n There's one right there too, right?\\n Which is pretty awesome.\"),\n",
       " Document(metadata={}, page_content=\"So that has been fueled by a lot of different things.\\n I mean, robotics is a good enterprise.\\n But I would say robotics by itself\\n might not have been enough fuel for this.\\n But now augmented reality, like Facebook Labs,\\n is working on this.\\n It was originally Oculus.\\n And the people that did this work became Oculus,\\n became Facebook Reality Labs.\\n So it's being powered by those kind of revolutions.\\n So let's just think a little bit about these different types\\n of sensors, and why are they different than a standard\\n camera, and why did they help robotics jump into the\\n perception age, I would say.\\n There's a couple different types out there.\\n You've probably heard of LIDAR, the laser range finders.\\n These are based on time of flight, where they're actually\\n shooting out an active laser, and then waiting for the\\n return, and measuring the distance.\\n And some of these are just crazy good, right?\\n So even a year ago, there was these 500 meter range luminars\"),\n",
       " Document(metadata={}, page_content=\"coming out where a car can drive through it.\\n It can basically see the whole city, it feels like.\\n And it's just building highly accurate geometric models as\\n it's driving down the street.\\n It's crazy good.\\n And you see these kind of--\\n I don't know if that's actually processed, or that\\n could just be a raw return.\\n Some of the raw returns from these cameras\\n just look spectacular.\\n I mean, the resolution degrades the farther you go, but it's\\n still crazy good.\\n And when these started happening, this started\\n powering a lot of the geometric work in robotics\\n perception.\\n Stereo imaging is still a thing.\\n It's an important thing, where you'll see stereo heads that\\n were the classic approach to building\\n sensors for perception.\\n This is actually the Carnegie head, which is stuck in the\\n middle of Atlas, which is the humanoid robot from at least\\n the version of Atlas we have upstairs, carried around this\\n stereo pair head.\\n And basically, the basic principle, there's two cameras.\"),\n",
       " Document(metadata={}, page_content=\"And it's comparing the two images, trying to find similar\\n blocks in the left and right image, and then saying how\\n different are those blocks in the image using the distance\\n between the lenses and figuring out the depth.\\n There's many different ways to do it, but basically, a simple\\n block matching stereo is a perfectly good way to do it.\\n Each of these have different pros and cons.\\n I'll tell you about the ones we picked.\\n I'll tell you most about the one we picked.\\n Structured light, it was the Microsoft\\n Kinect came out.\\n This was considered a major advance for indoor.\\n LiDAR was traditionally considered for outdoor\\n applications, and it works in natural light, whereas the\\n Kinect was one of the first things that powered the indoor\\n perception revolution.\\n And the fact that they became so cheap because they were\\n sold with game consoles was a big, big deal.\\n I think that really opened up the number of people that were\\n playing with them and just really\"),\n",
       " Document(metadata={}, page_content=\"bootstrapped the research.\\n So the structured light approach is you're projecting\\n some image onto the scene, which allows you to then, by\\n taking a picture, have far more information than you\\n would have had with just random pixels coming in.\\n But the one that we're going to use that I have in my\\n pocket here is an Intel RealSense D415.\\n They're pretty small, pretty nice.\\n This is actually a projected texture stereo.\\n The RealSense line and the Intel line has a handful of\\n different technologies, but this is the projected texture\\n stereo version.\\n So it's basically a stereo camera, except that it's also\\n got a little projector, obviously, that's just pushing\\n out some pattern of light.\\n So that if you were to look at--\\n if you take stereo images of a purely white wall, then\\n there's nothing that it could possibly do to compare those\\n images to get a reasonable depth.\\n But if you project an invisible pattern, an IR pattern even,\\n on the wall, then there's still something that it can\"),\n",
       " Document(metadata={}, page_content=\"see in order to get good depth information.\\n And in general, it reduces the reliance on the textures in\\n the world, because it's providing its own texture.\\n Compared to things like LiDAR and other time of flight\\n technologies, one of the reasons we like this is\\n because they don't interfere with each other.\\n So it actually doesn't care what the--\\n so compared to the structured light, where it's trying to\\n set up a certain pattern out, this one's just putting out\\n any old pattern.\\n It just wants to have texture.\\n It doesn't care--\\n it's not trying to match a specific pattern.\\n It's just trying to make sure that there's not\\n sameness everywhere.\\n So if you have two cameras pointing at the same scene,\\n and they're both projecting texture, no big deal.\\n It's still getting good returns.\\n Whereas a lot of the other cameras before that, you had\\n to really synchronize your multiple cameras to make sure\\n they weren't hitting--\\n sending active pulses at the same time.\"),\n",
       " Document(metadata={}, page_content=\"It was a major, major pain.\\n And we do use multiple cameras.\\n I'll show you in a minute the number of cameras we put\\n around that dish-loading example.\\n But this is new news.\\n This is August 17th this year.\\n Super sad.\\n I don't really use emojis, but I almost put a sad emoji on\\n here, right?\\n I don't really know what I'm going to do.\\n But it's really bad news for the field.\\n I mean, we're bummed.\\n There's not a great replacement yet.\\n I mean, there's more technologies out there, but\\n the RealSense has become a favorite for sure.\\n And I think we're--\\n I don't know.\\n We're just too small as a field to matter.\\n But they're selling them, but I guess they're\\n not selling enough.\\n So I don't know what we'll be using next year in class.\\n But we've got a bunch of RealSenses.\\n We're going to hang on to them, keep using them as long\\n as we can.\\n OK.\\n So we have the ability to simulate these cameras, of\\n course, in the simulation.\\n But we simulate them in various levels of fidelity.\\n OK?\"),\n",
       " Document(metadata={}, page_content=\"So the simplest one, and the one we'll use for most of the\\n class, is just a standard OpenGL renderer.\\n OK?\\n So OpenGL is sort of the basic graphics language that's\\n existed forever.\\n It's not particularly fancy in the way it does lighting.\\n Or it's capable, but not compared to the new game\\n engine quality technologies.\\n But it's fast.\\n And it's got GPU acceleration.\\n And it's definitely faster than real time.\\n OK.\\n So let me just step you through.\\n This is just a diagram from a very simple system that has an\\n object, a single object in the scene.\\n Turns out it's a mustard bottle.\\n OK.\\n And so we've got a multi-body plant, which is just holding\\n the mustard bottle, not doing anything interesting.\\n We've got the scene graph, which is the geometry engine.\\n And we now can take an RGB sensor and add a new sensor\\n into the diagram.\\n It hooks right up to the scene graph.\\n OK.\\n It's just another system.\\n It reads geometry.\\n It has a message passing with the scene graph to get the\"),\n",
       " Document(metadata={}, page_content=\"geometry information.\\n And it spits out color image, but also depth image in a\\n couple different channels.\\n And a label image for when you want to train your machine\\n learning algorithms.\\n You can say per pixel what object is it associated with.\\n And you can have it spit out the pose of the sensor.\\n OK.\\n So RGBD for red, green, blue, and depth sensors.\\n It's just one more channel that gives you a\\n depth signal back.\\n OK.\\n And the images that come out are the standard--\\n you take the first three channels, the\\n standard RGB images.\\n You get something that looks like this out.\\n There's a little mustard bottle.\\n And then there's an image that's the same number of\\n pixels, the same size, which just says for every pixel,\\n what's the distance to the object in the scene?\\n The first return, right?\\n Or NAN if it's too far.\\n Actually, it's not NAN.\\n There's a particular integer for that.\\n OK.\\n So you'll see this come slowly into MeshCat here.\"),\n",
       " Document(metadata={}, page_content=\"So in MeshCat, you can push the point clouds out to the\\n renderer, too.\\n So first of all, I drew the camera with the camera\\n coordinates here.\\n So you can see red, green, blue, remember?\\n So x, y, z.\\n Right?\\n So in order to get the images that we saw, we wanted the\\n camera oriented like this.\\n It's a little bit hard to think about.\\n I put it at a little bit of a tilt in order to get a little\\n bit of an angle on the shot.\\n OK?\\n But you can go in and navigate through MeshCat.\\n You can turn on and off the geometry from scene graph.\\n And you can turn on and off the point cloud.\\n But there's a point cloud in there giving you the same sort\\n of the raw information, I guess, from the cameras.\\n Right?\\n Now, the camera only sees one side of the object.\\n Right?\\n And that's a big part of what we have to take care of in\\n perception is the fact that we only get partial views.\\n Right?\\n So it's not going to be enough to assume you could see all\\n parts of the object and match all parts of the object.\"),\n",
       " Document(metadata={}, page_content=\"When you have occlusions, when you have multiple objects in\\n the scene, it gets even worse.\\n And the best perception systems can do a lot with very\\n partial views.\\n OK.\\n I said we like to just not worry about the cameras\\n interfering.\\n OK?\\n But this is a little ridiculous, I would say.\\n We just didn't want to worry about whether we had enough\\n cameras or we wanted to avoid partial views as much as\\n possible, so we put a bunch of cameras all over the place.\\n And we would do things like use some cameras to train the\\n other cameras.\\n There were multiple reasons for it.\\n But we instrumented the world with plenty of cameras, OK?\\n Including two on the wrist.\\n Right?\\n So right on the wrist of the robot, there's\\n two right there.\\n We'll mount them in various places.\\n The robot that we tried to bring in--\\n we successfully brought the robot in, but the cage had to\\n be disassembled.\\n And the cage had--\\n the standard cage we had around it was there primarily to hold\"),\n",
       " Document(metadata={}, page_content=\"the cameras in fixed locations and have a nice view down into\\n the scene.\\n So we're going to talk mostly today about relatively\\n simple-- like clean point clouds.\\n And thinking about what you do if the point clouds are giving\\n you pure geometry information.\\n But next time, we're going to go into the fact that the real\\n point clouds are pretty messy.\\n OK?\\n So I'm just--\\n introduce the idea of it here, but we're going to dig more\\n into it with our methods next time.\\n So this is a simulated depth return for\\n this kind of a scene.\\n OK?\\n And this is what you actually get out of\\n the real depth camera.\\n Now you notice it's not Gaussian noise.\\n OK?\\n So it's not like I take every pixel and I pull a random\\n number and I change the depth value by some Gaussian number.\\n It's much more stereotypical than that.\\n It tends to happen on the edges of objects, right?\\n Where the normals are not very incident to the camera.\\n OK?\\n That's a typical place where you don't get good returns or\"),\n",
       " Document(metadata={}, page_content=\"don't get good depth images.\\n Or if one camera can't-- or if both cameras can't see the\\n side of an object or something like that.\\n There's other--\\n so transparent or reflective surfaces are all-- there's\\n things like this that are the canonical bad\\n cases for these cameras.\\n There was a great project actually by the same Facebook\\n group where they were mapping the inside of homes and they\\n wanted to build these beautiful 3D\\n maps of indoor homes.\\n And the problem is people have windows and\\n people have mirrors.\\n So they actually--\\n they had a very clever--\\n I'll actually talk about it later.\\n But they have a very clever trick for figuring out how to\\n work with mirrors and windows.\\n OK, so this is just an example--\\n another example of-- this is the D415 where Cooney is\\n looking at some Legos and vegetables and random stuff on\\n his table, OK?\\n But if you scroll around the 3D-- the same way I scrolled\\n around the mustard bottle, he's got the camera above.\\n The camera's not moving.\"),\n",
       " Document(metadata={}, page_content=\"This is just looking at the point cloud that's coming out\\n from different angles.\\n I would say there's one word that everybody always uses\\n when they talk about the point clouds out of D415--\\n lumpy.\\n Everybody says lumpy.\\n It's like--\\n it doesn't seem like a word that would come to--\\n but I've heard a lot of people say, yeah, yeah, those are\\n lumpy point clouds.\\n And it just has this characteristic ripple, OK?\\n And if your carrots or whatever are like about the\\n same size as your lumps, things get pretty dicey.\\n So that wasn't meant to be a joke.\\n OK.\\n So that's our setup.\\n Let's start thinking about how to do work with point clouds\\n and how to go from depth to point clouds and why, as you\\n can see here, that thinking about point clouds is actually\\n a kinematics problem.\\n So I hope it blends nicely from what we did last time.\\n OK.\\n I'll start here.\\n So there's many representations of 3D data, of\\n 3D geometry, let me say.\\n OK.\\n The one that we were just illustrating there is called a\"),\n",
       " Document(metadata={}, page_content=\"point cloud.\\n OK.\\n So typically, this would be a--\\n let's say a 3 by n matrix, OK, where this is the x, y, z\\n positions in a Cartesian frame.\\n And this is the number of pixels or number of points.\\n OK.\\n It can also be--\\n you can also have RGB values.\\n You can also have normal information.\\n There are a couple other things that you can--\\n extra information you can add to the point cloud.\\n But the first thing we'll think about is just x, y, z\\n positions in space that are a point that I got from a--\\n indirectly from a depth camera.\\n OK.\\n I mean, a depth image, like we got directly out of the\\n camera, is also, in some sense, a\\n representation of 3D geometry.\\n But it's not enough by itself.\\n You also need to know, let's say, the camera info.\\n I'll get more detailed about that later.\\n But in order to turn that 2D image into a 3D point cloud,\\n you need to know something about the geometry of the\\n camera, and potentially even the location in space.\\n There are other representations of 3D\"),\n",
       " Document(metadata={}, page_content=\"geometry, too.\\n I mean, you can do triangular meshes.\\n Some of you will have heard of signed distance\\n representations.\\n And this has led to things like NERF, which I will say\\n more carefully later.\\n Voxel grids are another one, or occupancy grids.\\n OK.\\n So for the most part, I want you to--\\n we're going to think about these kind of the same way we\\n thought about rotations, where there are many, many\\n different types of representations for the\\n geometry.\")]"
      ]
     },
     "execution_count": 23,
     "metadata": {},
     "output_type": "execute_result"
    }
   ],
   "execution_count": 23
  },
  {
   "attachments": {},
   "cell_type": "markdown",
   "id": "1e99768f-8732-44e4-b8d8-cc5ac1fe4661",
   "metadata": {},
   "source": [
    "For this text, 450 splits the paragraphs perfectly. You can even switch the chunk size to 469 and get the same splits. This is because this splitter builds in a bit of cushion and wiggle room to allow your chunks to 'snap' to the nearest separator.\n",
    "\n",
    "Let's view this visually\n",
    "\n",
    "<div style=\"text-align: center;\">\n",
    "    <img src=\"static/ChunkVizCharacterRecursive.png\" alt=\"image\" style=\"max-width: 800px;\">\n",
    "</div>\n",
    "\n",
    "Wow - you already made it to level 2, awesome! We're on a roll. If you like the content, I send updates to email subscribers on projects I'm working on. If you want to get the scoop, sign up [here](https://mail.gregkamradt.com/signup)."
   ]
  },
  {
   "cell_type": "markdown",
   "id": "c5f32a73-0c8a-498c-a3a1-3e7dba4658c9",
   "metadata": {},
   "source": [
    "## Level 3: Document Specific Splitting <a id=\"DocumentSpecific\"></a>\n",
    "\n",
    "Stepping up our levels ladder, let's start to handle document types other than normal prose in a .txt. What if you have pictures? or a PDF? or code snippets?\n",
    "\n",
    "Our first two levels wouldn't work great for this so we'll need to find a different tactic.\n",
    "\n",
    "This level is all about making your chunking strategy fit your different data formats. Let's run through a bunch of examples of this in action\n",
    "\n",
    "The Markdown, Python, and JS splitters will basically be similar to Recursive Character, but with different separators.\n",
    "\n",
    "See all of LangChains document splitters [here](https://python.langchain.com/docs/modules/data_connection/document_transformers/text_splitters/code_splitter) and Llama Index ([HTML](https://docs.llamaindex.ai/en/stable/module_guides/loading/node_parsers/modules.html#htmlnodeparser), [JSON](https://docs.llamaindex.ai/en/stable/module_guides/loading/node_parsers/modules.html#jsonnodeparser), [Markdown](https://docs.llamaindex.ai/en/stable/module_guides/loading/node_parsers/modules.html#markdownnodeparser))\n",
    "\n",
    "### Markdown\n",
    "\n",
    "You can see the separators [here](https://github.com/langchain-ai/langchain/blob/9ef2feb6747f5a69d186bd623b569ad722829a5e/libs/langchain/langchain/text_splitter.py#L1175).\n",
    "\n",
    "Separators:\n",
    "* `\\n#{1,6}` - Split by new lines followed by a header (H1 through H6)\n",
    "* ```` ```\\n ```` - Code blocks\n",
    "* `\\n\\\\*\\\\*\\\\*+\\n` - Horizontal Lines\n",
    "* `\\n---+\\n` - Horizontal Lines\n",
    "* `\\n___+\\n` - Horizontal Lines\n",
    "* `\\n\\n` Double new lines\n",
    "* `\\n` - New line\n",
    "* `\" \"` - Spaces\n",
    "* `\"\"` - Character"
   ]
  },
  {
   "cell_type": "code",
   "id": "298fe868-0872-4fa9-9146-fa33e9dd5706",
   "metadata": {
    "ExecuteTime": {
     "end_time": "2024-11-10T23:19:23.170089Z",
     "start_time": "2024-11-10T23:19:23.163612Z"
    }
   },
   "source": [
    "from langchain.text_splitter import MarkdownTextSplitter"
   ],
   "outputs": [],
   "execution_count": 24
  },
  {
   "cell_type": "code",
   "execution_count": 22,
   "id": "e1d390ed-d046-44f9-a492-9760141f7982",
   "metadata": {},
   "outputs": [],
   "source": [
    "splitter = MarkdownTextSplitter(chunk_size = 40, chunk_overlap=0)"
   ]
  },
  {
   "cell_type": "code",
   "execution_count": 23,
   "id": "1ba14168-451b-4e9c-b1d0-d1eac6996ad3",
   "metadata": {},
   "outputs": [],
   "source": [
    "markdown_text = \"\"\"\n",
    "# Fun in California\n",
    "\n",
    "## Driving\n",
    "\n",
    "Try driving on the 1 down to San Diego\n",
    "\n",
    "### Food\n",
    "\n",
    "Make sure to eat a burrito while you're there\n",
    "\n",
    "## Hiking\n",
    "\n",
    "Go to Yosemite\n",
    "\"\"\""
   ]
  },
  {
   "cell_type": "code",
   "execution_count": 24,
   "id": "15dcf8de-551a-4477-8e68-57c4c50ddbc4",
   "metadata": {},
   "outputs": [
    {
     "data": {
      "text/plain": [
       "[Document(page_content='# Fun in California\\n\\n## Driving'),\n",
       " Document(page_content='Try driving on the 1 down to San Diego'),\n",
       " Document(page_content='### Food'),\n",
       " Document(page_content=\"Make sure to eat a burrito while you're\"),\n",
       " Document(page_content='there'),\n",
       " Document(page_content='## Hiking\\n\\nGo to Yosemite')]"
      ]
     },
     "execution_count": 24,
     "metadata": {},
     "output_type": "execute_result"
    }
   ],
   "source": [
    "splitter.create_documents([markdown_text])"
   ]
  },
  {
   "cell_type": "markdown",
   "id": "56591620-ef0c-41c2-b539-35ad676ed20f",
   "metadata": {},
   "source": [
    "Notice how the splits gravitate towards markdown sections. However, it's still not perfect. Check out how there is a chunk with just \"there\" in it. You'll run into this at low-sized chunks.\n",
    "\n",
    "### Python\n",
    "\n",
    "See the python splitters [here](https://github.com/langchain-ai/langchain/blob/9ef2feb6747f5a69d186bd623b569ad722829a5e/libs/langchain/langchain/text_splitter.py#L1069)\n",
    "\n",
    "* `\\nclass` - Classes first\n",
    "* `\\ndef` - Functions next\n",
    "* `\\n\\tdef` - Indented functions\n",
    "* `\\n\\n` - Double New lines\n",
    "* `\\n` - New Lines\n",
    "* `\" \"` - Spaces\n",
    "* `\"\"` - Characters\n",
    "\n",
    "\n",
    "Let's load up our splitter"
   ]
  },
  {
   "cell_type": "code",
   "execution_count": 25,
   "id": "66edcde5-1e96-4b61-8636-8129d31d7850",
   "metadata": {},
   "outputs": [],
   "source": [
    "from langchain.text_splitter import PythonCodeTextSplitter"
   ]
  },
  {
   "cell_type": "code",
   "execution_count": 26,
   "id": "2afa8f93-6b07-484f-86ff-9836f5a5fae1",
   "metadata": {},
   "outputs": [],
   "source": [
    "python_text = \"\"\"\n",
    "class Person:\n",
    "  def __init__(self, name, age):\n",
    "    self.name = name\n",
    "    self.age = age\n",
    "\n",
    "p1 = Person(\"John\", 36)\n",
    "\n",
    "for i in range(10):\n",
    "    print (i)\n",
    "\"\"\""
   ]
  },
  {
   "cell_type": "code",
   "execution_count": 27,
   "id": "6e8fcc85-714d-4b5c-a5ce-a3f30cfb447b",
   "metadata": {},
   "outputs": [],
   "source": [
    "python_splitter = PythonCodeTextSplitter(chunk_size=100, chunk_overlap=0)"
   ]
  },
  {
   "cell_type": "code",
   "execution_count": 28,
   "id": "a7b6dd89-6bb9-496a-a85d-3f1871ff9cd0",
   "metadata": {},
   "outputs": [
    {
     "data": {
      "text/plain": [
       "[Document(page_content='class Person:\\n  def __init__(self, name, age):\\n    self.name = name\\n    self.age = age'),\n",
       " Document(page_content='p1 = Person(\"John\", 36)\\n\\nfor i in range(10):\\n    print (i)')]"
      ]
     },
     "execution_count": 28,
     "metadata": {},
     "output_type": "execute_result"
    }
   ],
   "source": [
    "python_splitter.create_documents([python_text])"
   ]
  },
  {
   "cell_type": "markdown",
   "id": "6c004f19-9e67-451e-abdd-b103acce2996",
   "metadata": {},
   "source": [
    "Check out how the class stays together in a single document (good), then the rest of the code is in a second document (ok).\n",
    "\n",
    "I needed to play with the chunk size to get a clean result like that. You'll likely need to do the same for yours which is why using evaluations to determine optimal chunk sizes is crucial.\n",
    "\n",
    "### JS\n",
    "\n",
    "Very similar to python. See the separators [here](https://github.com/langchain-ai/langchain/blob/9ef2feb6747f5a69d186bd623b569ad722829a5e/libs/langchain/langchain/text_splitter.py#L983).\n",
    "\n",
    "Separators:\n",
    "* `\\nfunction` - Indicates the beginning of a function declaration\n",
    "* `\\nconst` - Used for declaring constant variables\n",
    "* `\\nlet` - Used for declaring block-scoped variables\n",
    "* `\\nvar` - Used for declaring a variable\n",
    "* `\\nclass` - Indicates the start of a class definition\n",
    "* `\\nif` - Indicates the beginning of an if statement\n",
    "* `\\nfor` - Used for for-loops\n",
    "* `\\nwhile` - Used for while-loops\n",
    "* `\\nswitch` - Used for switch statements\n",
    "* `\\ncase` - Used within switch statements\n",
    "* `\\ndefault` - Also used within switch statements\n",
    "* `\\n\\n` - Indicates a larger separation in text or code\n",
    "* `\\n` - Separates lines of code or text\n",
    "* `\" \"` - Separates words or tokens in the code\n",
    "* `\"\"` - Makes every character a separate element"
   ]
  },
  {
   "cell_type": "code",
   "execution_count": 29,
   "id": "a5225b66-4d79-455b-92a1-841fa23ccc4f",
   "metadata": {},
   "outputs": [],
   "source": [
    "from langchain.text_splitter import RecursiveCharacterTextSplitter, Language"
   ]
  },
  {
   "cell_type": "code",
   "execution_count": 30,
   "id": "d75090fa-4d22-4348-8452-eb50eafa784d",
   "metadata": {},
   "outputs": [],
   "source": [
    "javascript_text = \"\"\"\n",
    "// Function is called, the return value will end up in x\n",
    "let x = myFunction(4, 3);\n",
    "\n",
    "function myFunction(a, b) {\n",
    "// Function returns the product of a and b\n",
    "  return a * b;\n",
    "}\n",
    "\"\"\""
   ]
  },
  {
   "cell_type": "code",
   "execution_count": 31,
   "id": "909fde28-43ba-4f07-b9ae-04c21db04055",
   "metadata": {},
   "outputs": [],
   "source": [
    "js_splitter = RecursiveCharacterTextSplitter.from_language(\n",
    "    language=Language.JS, chunk_size=65, chunk_overlap=0\n",
    ")"
   ]
  },
  {
   "cell_type": "code",
   "execution_count": 32,
   "id": "5b70d936-bc31-4ecc-b190-6dd8fffdacb9",
   "metadata": {},
   "outputs": [
    {
     "data": {
      "text/plain": [
       "[Document(page_content='// Function is called, the return value will end up in x'),\n",
       " Document(page_content='let x = myFunction(4, 3);'),\n",
       " Document(page_content='function myFunction(a, b) {'),\n",
       " Document(page_content='// Function returns the product of a and b\\n  return a * b;\\n}')]"
      ]
     },
     "execution_count": 32,
     "metadata": {},
     "output_type": "execute_result"
    }
   ],
   "source": [
    "js_splitter.create_documents([javascript_text])"
   ]
  },
  {
   "cell_type": "markdown",
   "id": "8fab2014-e705-4ade-87ea-d967a9c01593",
   "metadata": {},
   "source": [
    "### PDFs w/ tables\n",
    "\n",
    "Ok now things will get a bit spicier.\n",
    "\n",
    "PDFs are an extremely common data type for language model work. Often they'll contain tables that contain information.\n",
    "\n",
    "This could be financial data, studies, academic papers, etc.\n",
    "\n",
    "Trying to split tables by a character based separator isn't reliable. We need to try out a different method. For a deep dive on this I recommend checking out [Lance Martin's](https://twitter.com/RLanceMartin) [tutorial](https://twitter.com/RLanceMartin/status/1721942636364456336) w/ LangChain.\n",
    "\n",
    "I'll be going through a text based methods. [Mayo](https://twitter.com/mayowaoshin) has also outlined a GPT-4V method which tries to pulls tables via vision rather than text. You can check out [here](https://twitter.com/mayowaoshin/status/1727399231734886633).\n",
    "\n",
    "A very convenient way to do this is with [Unstructured](https://unstructured.io/), a library dedicated to making your data LLM ready."
   ]
  },
  {
   "cell_type": "code",
   "execution_count": 33,
   "id": "ffd078d0-5651-4ab0-b299-b2ed5a4f7cef",
   "metadata": {},
   "outputs": [],
   "source": [
    "import os\n",
    "from unstructured.partition.pdf import partition_pdf\n",
    "from unstructured.staging.base import elements_to_json"
   ]
  },
  {
   "cell_type": "markdown",
   "id": "b174a72b-0d43-4440-9ef8-f5f3aed0c651",
   "metadata": {},
   "source": [
    "Let's load up our PDF and then parition it. This is a PDF from a [Salesforce earning report](https://investor.salesforce.com/financials/default.aspx)."
   ]
  },
  {
   "cell_type": "code",
   "execution_count": 34,
   "id": "2ae9042d-be6f-411a-8835-bda30ffa0805",
   "metadata": {},
   "outputs": [
    {
     "name": "stderr",
     "output_type": "stream",
     "text": [
      "Some weights of the model checkpoint at microsoft/table-transformer-structure-recognition were not used when initializing TableTransformerForObjectDetection: ['model.backbone.conv_encoder.model.layer3.0.downsample.1.num_batches_tracked', 'model.backbone.conv_encoder.model.layer4.0.downsample.1.num_batches_tracked', 'model.backbone.conv_encoder.model.layer2.0.downsample.1.num_batches_tracked']\n",
      "- This IS expected if you are initializing TableTransformerForObjectDetection from the checkpoint of a model trained on another task or with another architecture (e.g. initializing a BertForSequenceClassification model from a BertForPreTraining model).\n",
      "- This IS NOT expected if you are initializing TableTransformerForObjectDetection from the checkpoint of a model that you expect to be exactly identical (initializing a BertForSequenceClassification model from a BertForSequenceClassification model).\n"
     ]
    }
   ],
   "source": [
    "filename = \"static/SalesforceFinancial.pdf\"\n",
    "\n",
    "# Extracts the elements from the PDF\n",
    "elements = partition_pdf(\n",
    "    filename=filename,\n",
    "\n",
    "    # Unstructured Helpers\n",
    "    strategy=\"hi_res\", \n",
    "    infer_table_structure=True, \n",
    "    model_name=\"yolox\"\n",
    ")"
   ]
  },
  {
   "cell_type": "markdown",
   "id": "f65ad413-80f9-43da-8fb5-3a32373c3686",
   "metadata": {},
   "source": [
    "Let's look at our elements"
   ]
  },
  {
   "cell_type": "code",
   "execution_count": 35,
   "id": "0f5ac388-5b4e-4dcd-bf74-84220c8cdff4",
   "metadata": {},
   "outputs": [
    {
     "data": {
      "text/plain": [
       "[<unstructured.documents.elements.NarrativeText at 0x2bdecbfd0>,\n",
       " <unstructured.documents.elements.NarrativeText at 0x2ad356cd0>,\n",
       " <unstructured.documents.elements.NarrativeText at 0x2ba4e0cd0>,\n",
       " <unstructured.documents.elements.NarrativeText at 0x2af4148d0>,\n",
       " <unstructured.documents.elements.NarrativeText at 0x2ba846c90>,\n",
       " <unstructured.documents.elements.NarrativeText at 0x2ba8450d0>,\n",
       " <unstructured.documents.elements.NarrativeText at 0x2ba844990>,\n",
       " <unstructured.documents.elements.NarrativeText at 0x2ba944490>,\n",
       " <unstructured.documents.elements.Table at 0x2ba947b50>,\n",
       " <unstructured.documents.elements.NarrativeText at 0x2ad3d4f50>,\n",
       " <unstructured.documents.elements.Text at 0x2ba969f50>,\n",
       " <unstructured.documents.elements.Text at 0x177a411d0>]"
      ]
     },
     "execution_count": 35,
     "metadata": {},
     "output_type": "execute_result"
    }
   ],
   "source": [
    "elements"
   ]
  },
  {
   "cell_type": "markdown",
   "id": "1a081974-002c-4060-9d0c-2d4a5f270044",
   "metadata": {},
   "source": [
    "These are just unstructured objects, we could look at them all but I want to look at the table it parsed."
   ]
  },
  {
   "cell_type": "code",
   "execution_count": 36,
   "id": "9c5460db-689d-4e7a-a5bc-a10477c4a61e",
   "metadata": {},
   "outputs": [
    {
     "data": {
      "text/plain": [
       "'<table><thead><th>Revenue)</th><th>Guidance $7.69 - $7.70 Billion</th><th>Guidance $31.7 - $31.8 Billion</th></thead><tr><td>Y/Y Growth</td><td>~21%</td><td>~20%</td></tr><tr><td>FX Impact?)</td><td>~($200M) y/y FX</td><td>~($600M) y/y FX®</td></tr><tr><td>GAAP operating margin</td><td></td><td>~3.8%</td></tr><tr><td>Non-GAAP operating margin)</td><td></td><td>~20.4%</td></tr><tr><td>GAAP earnings (loss) per share</td><td>($0.03) - ($0.02)</td><td>$0.38 - $0.40</td></tr><tr><td>Non-GAAP earnings per share</td><td>$1.01 - $1.02</td><td>$4.74 - $4.76</td></tr><tr><td>Operating Cash Flow Growth (Y/Y)</td><td></td><td>~21% - 22%</td></tr><tr><td>Current Remaining Performance Obligation Growth (Y/Y)</td><td>~15%</td><td></td></tr></table>'"
      ]
     },
     "execution_count": 36,
     "metadata": {},
     "output_type": "execute_result"
    }
   ],
   "source": [
    "elements[-4].metadata.text_as_html"
   ]
  },
  {
   "cell_type": "markdown",
   "id": "8c269535-4fe9-44f2-8e0d-8578d706db7c",
   "metadata": {},
   "source": [
    "That table may look messy, but because it's in HTML format, the LLM is able to parse it much more easily than if it was tab or comma separated. You can copy and paste that html into a [html viewer](https://codebeautify.org/htmlviewer) online to see it reconstructed.\n",
    "\n",
    "<div style=\"text-align: center;\">\n",
    "    <img src=\"static/SalesforceFinancialTable.png\" alt=\"image\" style=\"max-width: 800px;\">\n",
    "</div>"
   ]
  },
  {
   "cell_type": "markdown",
   "id": "1ed1a5fe-245a-4d3c-86aa-03fca86ba5cf",
   "metadata": {},
   "source": [
    "Awesome, Unstructured was able to pull out the tables for us. It's not perfect, but the team is upgrading their toolset all the time.\n",
    "\n",
    "**Important Point:** Later on when we are doing semantic search over our chunks, trying to match on embeddings from the table directly will be difficult. A common practice that developers do is to *summarize* the table after you've extracted it. Then get an embedding of that summary. If the summary embedding matches what you're looking for, then pass the raw table to your LLM.\n",
    "\n",
    "### Multi-Modal (text + images)\n",
    "\n",
    "Next we'll dive into the world of multi-modal text splitting. This is a very active field and best practices are evolving. I'll show you a method that was made popular by [Lance Martin](https://twitter.com/RLanceMartin/status/1713638963255366091) of LangChain. You can check out his source code [here](https://github.com/langchain-ai/langchain/blob/master/cookbook/Semi_structured_and_multi_modal_RAG.ipynb). If you find a method that works better, share it out with the community!"
   ]
  },
  {
   "cell_type": "code",
   "execution_count": 37,
   "id": "dee2ed53-96c8-4cf3-89d9-681ff5d4552f",
   "metadata": {},
   "outputs": [],
   "source": [
    "#!pip3 install \"unstructured[all-docs]\"\n",
    "from typing import Any\n",
    "\n",
    "from pydantic import BaseModel\n",
    "from unstructured.partition.pdf import partition_pdf"
   ]
  },
  {
   "cell_type": "markdown",
   "id": "ea2f20e1-e0fb-4d17-8ec7-faa4276fba23",
   "metadata": {},
   "source": [
    "First, let's go get a PDF to work with. This will be from a visual instruction tuning [paper](https://llava-vl.github.io/).\n",
    "\n",
    "<div style=\"text-align: center;\">\n",
    "    <img src=\"static/VisualInstructionSnapshot.png\" alt=\"image\" style=\"max-width: 800px;\">\n",
    "</div>"
   ]
  },
  {
   "cell_type": "code",
   "execution_count": 38,
   "id": "3f2d1771-7170-48c2-a614-480d7d2167df",
   "metadata": {},
   "outputs": [],
   "source": [
    "filepath = \"static/VisualInstruction.pdf\""
   ]
  },
  {
   "cell_type": "code",
   "execution_count": 39,
   "id": "d9240942-2702-45ae-8333-8ac9c3e10343",
   "metadata": {},
   "outputs": [],
   "source": [
    "# Get elements\n",
    "raw_pdf_elements = partition_pdf(\n",
    "    filename=filepath,\n",
    "    \n",
    "    # Using pdf format to find embedded image blocks\n",
    "    extract_images_in_pdf=True,\n",
    "    \n",
    "    # Use layout model (YOLOX) to get bounding boxes (for tables) and find titles\n",
    "    # Titles are any sub-section of the document\n",
    "    infer_table_structure=True,\n",
    "    \n",
    "    # Post processing to aggregate text once we have the title\n",
    "    chunking_strategy=\"by_title\",\n",
    "    # Chunking params to aggregate text blocks\n",
    "    # Attempt to create a new chunk 3800 chars\n",
    "    # Attempt to keep chunks > 2000 chars\n",
    "    # Hard max on chunks\n",
    "    max_characters=4000,\n",
    "    new_after_n_chars=3800,\n",
    "    combine_text_under_n_chars=2000,\n",
    "    image_output_dir_path=\"static/pdfImages/\",\n",
    ")"
   ]
  },
  {
   "cell_type": "markdown",
   "id": "2c45aab5-5f51-4d67-9ea2-17c5489a5c2a",
   "metadata": {},
   "source": [
    "If you head over to `static/pdfImages/` and check out the images that were parsed.\n",
    "\n",
    "But the images don't do anything sitting in a folder, we need to do something with them! Though a bit outside the scope of chunking, let's talk about how to work with these.\n",
    "\n",
    "The common tactics will either use a multi-modal model to generate summaries of the images or use the image itself for your task. Others get embeddings of images (like [CLIP](https://openai.com/research/clip)).\n",
    "\n",
    "Let's generate summaries so you'll be inspired to take this to the next step. We'll use GPT-4V. Check out other models [here](https://platform.openai.com/docs/model)."
   ]
  },
  {
   "cell_type": "code",
   "execution_count": 40,
   "id": "fc40dacd-09a0-4ce0-ae8c-87a3910a1408",
   "metadata": {},
   "outputs": [
    {
     "data": {
      "text/plain": [
       "True"
      ]
     },
     "execution_count": 40,
     "metadata": {},
     "output_type": "execute_result"
    }
   ],
   "source": [
    "from langchain.chat_models import ChatOpenAI\n",
    "from langchain.schema.messages import HumanMessage\n",
    "import os\n",
    "from dotenv import load_dotenv\n",
    "from PIL import Image\n",
    "import base64\n",
    "import io\n",
    "\n",
    "load_dotenv()"
   ]
  },
  {
   "cell_type": "markdown",
   "id": "9fe7b48f-7da2-430f-a0dd-c8e1766854a3",
   "metadata": {},
   "source": [
    "We'll be using gpt-4-vision today"
   ]
  },
  {
   "cell_type": "code",
   "execution_count": 41,
   "id": "59b1b6d2-4d84-41dc-8698-8be52e6f5bd8",
   "metadata": {},
   "outputs": [],
   "source": [
    "llm = ChatOpenAI(model=\"gpt-4-vision-preview\")"
   ]
  },
  {
   "cell_type": "markdown",
   "id": "6ea28491-e225-4667-8666-3b0541dbf2b7",
   "metadata": {},
   "source": [
    "I'm creating quick helper function to convert the image from file to base64 so we can pass it to GPT-4V"
   ]
  },
  {
   "cell_type": "code",
   "execution_count": 43,
   "id": "ed1f096a-abd1-4380-af24-6c65074d2420",
   "metadata": {},
   "outputs": [],
   "source": [
    "# Function to convert image to base64\n",
    "def image_to_base64(image_path):\n",
    "    with Image.open(image_path) as image:\n",
    "        buffered = io.BytesIO()\n",
    "        image.save(buffered, format=image.format)\n",
    "        img_str = base64.b64encode(buffered.getvalue())\n",
    "        return img_str.decode('utf-8')\n",
    "\n",
    "image_str = image_to_base64(\"static/pdfImages/figure-15-6.jpg\")"
   ]
  },
  {
   "cell_type": "markdown",
   "id": "80becf02-83bd-4560-af3a-dece72259296",
   "metadata": {},
   "source": [
    "Then we can go ahead and pass our image to the LLM"
   ]
  },
  {
   "cell_type": "code",
   "execution_count": 44,
   "id": "638d7f95-d181-4b4a-aeb0-b40367f0f215",
   "metadata": {},
   "outputs": [],
   "source": [
    "chat = ChatOpenAI(model=\"gpt-4-vision-preview\",\n",
    "                  max_tokens=1024)\n",
    "\n",
    "msg = chat.invoke(\n",
    "    [\n",
    "        HumanMessage(\n",
    "            content=[\n",
    "                {\"type\": \"text\", \"text\" : \"Please give a summary of the image provided. Be descriptive\"},\n",
    "                {\n",
    "                    \"type\": \"image_url\",\n",
    "                    \"image_url\": {\n",
    "                        \"url\": f\"data:image/jpeg;base64,{image_str}\"\n",
    "                    },\n",
    "                },\n",
    "            ]\n",
    "        )\n",
    "    ]\n",
    ")"
   ]
  },
  {
   "cell_type": "markdown",
   "id": "67130242-5d72-4304-a705-c9177558a7d4",
   "metadata": {},
   "source": [
    "Then the summary returned is what we will put into our vectordata base. Then when it comes time to do our retrieval process, we'll use these embeddings for semantic search."
   ]
  },
  {
   "cell_type": "code",
   "execution_count": 45,
   "id": "a51c2833-ee05-43b2-9cd2-6710d6e73ee8",
   "metadata": {},
   "outputs": [
    {
     "data": {
      "text/plain": [
       "'The image shows a baking tray with pieces of fried chicken arranged to roughly mimic the continents on Earth as seen from space. The largest piece in the center is intended to represent Africa and Eurasia, while smaller pieces are meant to symbolize the Americas, Australia, and possibly Antarctica. There is text above the image which says, \"Sometimes I just look at pictures of the earth from space and I marvel at how beautiful it all is.\" This text is likely meant to be humorous, as it juxtaposes the grandeur of Earth from space with a whimsical arrangement of chicken on a baking sheet, suggesting a playful comparison between the two.'"
      ]
     },
     "execution_count": 45,
     "metadata": {},
     "output_type": "execute_result"
    }
   ],
   "source": [
    "msg.content"
   ]
  },
  {
   "cell_type": "markdown",
   "id": "b129deb0-7b11-48f6-bc3e-210658e9f8e4",
   "metadata": {},
   "source": [
    "<div style=\"text-align: center;\">\n",
    "    <img src=\"static/pdfImages/figure-15-6.jpg\" alt=\"image\" style=\"max-width: 800px;\"><br>\n",
    "    <span><i>static/pdfImages/figure-15-6.jpg</i></span>\n",
    "</div>\n",
    "\n",
    "Hm, that seems about right!\n",
    "\n",
    "There are a ton of ways to go about this (check out the bonus section for more) so don't take my word for it - try 'em."
   ]
  },
  {
   "cell_type": "markdown",
   "id": "0ba7cf0e-ec8e-4115-be32-e49aaf5adccc",
   "metadata": {},
   "source": [
    "## Level 4: Semantic Chunking <a id=\"SemanticChunking\"></a>\n",
    "Isn't it weird that we have a global constant for chunk size? Isn't it even weirder that our normal chunking mechanisms don't take into account the actual content?\n",
    "\n",
    "I'm not the only one who thinks so\n",
    "\n",
    "<div style=\"text-align: center;\">\n",
    "    <img src=\"static/SemanticChunkingtweet.png\" style=\"max-width:50%; height:auto;\"><br>\n",
    "    <span><i><a href=\"https://twitter.com/thesephist/status/1724159343237456248?s=46\">Source</a></i></span>\n",
    "</div>\n",
    "\n",
    "There has to be a better way - let's explore and find out.\n",
    "\n",
    "Embeddings represent the semantic meaning of a string. They don't do much on their own, but when compared to embeddings of other texts you can start to infer the relationship between chunks. I want to lean into this property and explore using embeddings to find clusters of semantically similar texts.\n",
    "\n",
    "The hypothesis is that semantically similar chunks should be held together.\n",
    "\n",
    "I tried a few methods:\n",
    "1) **Heirarchical clustering with positional reward** - I wanted to see how heirarchical clustering of sentence embeddings would do. But because I chose to split on sentences, there was an issue with small short sentences after a long one. You know? (like this last sentenence). They could change the meaning of a chunk, so I added a positional reward and clusters were more likely to form if they were sentences next to each other. This ended up being ok, but tuning the parameters was slow and unoptimal.\n",
    "2) **Find break points between sequential sentences** - Next up I tried a walk method. I started at the first sentence, got the embedding, then compared it to sentence #2, then compared #2 and #3 and so on. I was looking for \"break points\" where embedding distance was large. If it was above a threshold, then I considered it the start of a new semantic section. I originally tried taking embeddings of every sentence, but this turned out to be too noisy. So I ended up taking groups of 3 sentences (a window), then got an embedding, then dropped the first sentence, and added the next one. This worked out a bit better.\n",
    "\n",
    "I'll show method #2 here - It's not perfect by any means, but it's a good starting point for an exploration and I'd love to hear about how you think it could be improved.\n",
    "\n",
    "First, let's load up our essay that we'll run through. I'm just doing a single essay here to keep the tokens down.\n",
    "\n",
    "We'll be using Paul Graham's [MIT essay](https://paulgraham.com/mit.html)"
   ]
  },
  {
   "cell_type": "code",
   "id": "7c5bb388-0534-4ef5-b5d2-322e945a513b",
   "metadata": {
    "ExecuteTime": {
     "end_time": "2024-11-11T12:42:33.473240Z",
     "start_time": "2024-11-11T12:42:33.470525Z"
    }
   },
   "source": [
    "with open('sample.txt') as file:\n",
    "    essay = file.read()"
   ],
   "outputs": [],
   "execution_count": 3
  },
  {
   "cell_type": "markdown",
   "id": "6d18623d-6fc1-4b90-a016-ee79ac28b9ad",
   "metadata": {},
   "source": [
    "Then I want to split the entire essay into 1-sentence chunks. I'm going to split on \".\" \"?\" and \"!\". There are better ways to do this but this is quick and easy for now."
   ]
  },
  {
   "cell_type": "code",
   "id": "1dbbfa5a-45a2-4c6e-84f5-d774183717d0",
   "metadata": {
    "ExecuteTime": {
     "end_time": "2024-11-11T12:42:37.279279Z",
     "start_time": "2024-11-11T12:42:37.276253Z"
    }
   },
   "source": [
    "import re\n",
    "\n",
    "# Splitting the essay on '.', '?', and '!'\n",
    "# replace \\n in essay with space\n",
    "essay = essay.replace('\\n', ' ')\n",
    "single_sentences_list = re.split(r'(?<=[.?!])\\s+', essay)\n",
    "print (f\"{len(single_sentences_list)} senteneces were found\")"
   ],
   "outputs": [
    {
     "name": "stdout",
     "output_type": "stream",
     "text": [
      "274 senteneces were found\n"
     ]
    }
   ],
   "execution_count": 4
  },
  {
   "cell_type": "markdown",
   "id": "6340df5c-bae9-4f04-a69a-4263c7e912de",
   "metadata": {},
   "source": [
    "But a list of sentences can be tough to add more data too. I'm going to turn this into a list of dictionaries (`List[dict]`), of which, the sentences will be a key-value. Then we can start to add more data to each sentence."
   ]
  },
  {
   "cell_type": "code",
   "id": "b1bc484a-5d6f-4df5-a1ec-7803908fac95",
   "metadata": {
    "ExecuteTime": {
     "end_time": "2024-11-11T12:42:48.441821Z",
     "start_time": "2024-11-11T12:42:48.436786Z"
    }
   },
   "source": [
    "sentences = [{'sentence': x, 'index' : i} for i, x in enumerate(single_sentences_list)]\n",
    "sentences[:3]"
   ],
   "outputs": [
    {
     "data": {
      "text/plain": [
       "[{'sentence': \"I can do my standard setup, is that so far, we've  either assumed we knew where the block was immediately,  or I actually, in some of the notebooks,  I had the system pull on the output port that  was the cheat port, I call it, from the manipulation station.\",\n",
       "  'index': 0},\n",
       " {'sentence': 'So if you look closely at the manipulation station,  it tells you what you would get from the robot, which  are the IWA positions and the shunk positions.',\n",
       "  'index': 1},\n",
       " {'sentence': \"It doesn't tell you directly--  I mean, there's no sensors saying where the block is yet.\",\n",
       "  'index': 2}]"
      ]
     },
     "execution_count": 5,
     "metadata": {},
     "output_type": "execute_result"
    }
   ],
   "execution_count": 5
  },
  {
   "cell_type": "markdown",
   "id": "7655fbb4-73a8-43dd-a6b7-565ecf85890a",
   "metadata": {},
   "source": [
    "Great, now that we have our sentences, I want to combine the sentence before and after so that we reduce noise and capture more of the relationships between sequential sentences.\n",
    "\n",
    "Let's create a function so we can use it again. The `buffer_size` is configurable so you can select how big of a window you want. Keep this number in mind for the later steps. I'll just use `buffer_size=1` for now."
   ]
  },
  {
   "cell_type": "code",
   "id": "c2c5e5ef-bfbe-4680-9761-0ba7615cc645",
   "metadata": {
    "ExecuteTime": {
     "end_time": "2024-11-11T12:43:24.198385Z",
     "start_time": "2024-11-11T12:43:24.190908Z"
    }
   },
   "source": [
    "def combine_sentences(sentences, buffer_size=1):\n",
    "    # Go through each sentence dict\n",
    "    for i in range(len(sentences)):\n",
    "\n",
    "        # Create a string that will hold the sentences which are joined\n",
    "        combined_sentence = ''\n",
    "\n",
    "        # Add sentences before the current one, based on the buffer size.\n",
    "        for j in range(i - buffer_size, i):\n",
    "            # Check if the index j is not negative (to avoid index out of range like on the first one)\n",
    "            if j >= 0:\n",
    "                # Add the sentence at index j to the combined_sentence string\n",
    "                combined_sentence += sentences[j]['sentence'] + ' '\n",
    "\n",
    "        # Add the current sentence\n",
    "        combined_sentence += sentences[i]['sentence']\n",
    "\n",
    "        # Add sentences after the current one, based on the buffer size\n",
    "        for j in range(i + 1, i + 1 + buffer_size):\n",
    "            # Check if the index j is within the range of the sentences list\n",
    "            if j < len(sentences):\n",
    "                # Add the sentence at index j to the combined_sentence string\n",
    "                combined_sentence += ' ' + sentences[j]['sentence']\n",
    "\n",
    "        # Then add the whole thing to your dict\n",
    "        # Store the combined sentence in the current sentence dict\n",
    "        sentences[i]['combined_sentence'] = combined_sentence\n",
    "\n",
    "    return sentences\n",
    "\n",
    "sentences = combine_sentences(sentences)"
   ],
   "outputs": [],
   "execution_count": 6
  },
  {
   "cell_type": "code",
   "id": "a0c06ebf-af2c-4f14-924d-e0d0cab05f09",
   "metadata": {
    "ExecuteTime": {
     "end_time": "2024-11-11T12:43:26.186163Z",
     "start_time": "2024-11-11T12:43:26.180125Z"
    }
   },
   "source": [
    "sentences[:3]"
   ],
   "outputs": [
    {
     "data": {
      "text/plain": [
       "[{'sentence': \"I can do my standard setup, is that so far, we've  either assumed we knew where the block was immediately,  or I actually, in some of the notebooks,  I had the system pull on the output port that  was the cheat port, I call it, from the manipulation station.\",\n",
       "  'index': 0,\n",
       "  'combined_sentence': \"I can do my standard setup, is that so far, we've  either assumed we knew where the block was immediately,  or I actually, in some of the notebooks,  I had the system pull on the output port that  was the cheat port, I call it, from the manipulation station. So if you look closely at the manipulation station,  it tells you what you would get from the robot, which  are the IWA positions and the shunk positions.\"},\n",
       " {'sentence': 'So if you look closely at the manipulation station,  it tells you what you would get from the robot, which  are the IWA positions and the shunk positions.',\n",
       "  'index': 1,\n",
       "  'combined_sentence': \"I can do my standard setup, is that so far, we've  either assumed we knew where the block was immediately,  or I actually, in some of the notebooks,  I had the system pull on the output port that  was the cheat port, I call it, from the manipulation station. So if you look closely at the manipulation station,  it tells you what you would get from the robot, which  are the IWA positions and the shunk positions. It doesn't tell you directly--  I mean, there's no sensors saying where the block is yet.\"},\n",
       " {'sentence': \"It doesn't tell you directly--  I mean, there's no sensors saying where the block is yet.\",\n",
       "  'index': 2,\n",
       "  'combined_sentence': \"So if you look closely at the manipulation station,  it tells you what you would get from the robot, which  are the IWA positions and the shunk positions. It doesn't tell you directly--  I mean, there's no sensors saying where the block is yet. But we have these cheat ports that  will tell you the position and the pose  of any object in the scene.\"}]"
      ]
     },
     "execution_count": 7,
     "metadata": {},
     "output_type": "execute_result"
    }
   ],
   "execution_count": 7
  },
  {
   "cell_type": "markdown",
   "id": "0deb04a6-d0ad-4757-af8c-d6d600794357",
   "metadata": {},
   "source": [
    "Check out how the 2nd sentence (index #1) has the first sentence and 3rd sentence in its `combined_sentence` key now.\n",
    "\n",
    "Now I want to get embeddings for the combined sentences, so we can get the distances between the groups of 3 and find breakpoints. I'll use OpenAI's embeddings for this."
   ]
  },
  {
   "cell_type": "code",
   "id": "d757106f-d6cd-4504-96f1-4fe1f82e0b7e",
   "metadata": {
    "ExecuteTime": {
     "end_time": "2024-11-11T13:23:47.477946Z",
     "start_time": "2024-11-11T13:06:41.962469Z"
    }
   },
   "source": [
    "from langchain.embeddings import OpenAIEmbeddings\n",
    "from dotenv import load_dotenv\n",
    "import os\n",
    "\n",
    "load_dotenv()\n",
    "\n",
    "OPENAI_API_KEY = os.getenv('OPENAI_API_KEY', 'YourAPIKey')\n",
    "\n",
    "oaiembeds = OpenAIEmbeddings()\n",
    "\n",
    "from langchain_community.embeddings import LlamafileEmbeddings\n",
    "\n",
    "embedder = LlamafileEmbeddings()\n",
    "\n",
    "from langchain_community.embeddings import HuggingFaceBgeEmbeddings\n",
    "\n",
    "model_name = \"BAAI/bge-large-en-v1.5\"\n",
    "model_kwargs = {'device': 'cpu'}\n",
    "encode_kwargs = {'normalize_embeddings': True}\n",
    "hf = HuggingFaceBgeEmbeddings(\n",
    "    model_name=model_name,\n",
    "    model_kwargs=model_kwargs,\n",
    "    encode_kwargs=encode_kwargs\n",
    ")\n",
    "\n",
    "\n"
   ],
   "outputs": [
    {
     "data": {
      "text/plain": [
       "modules.json:   0%|          | 0.00/349 [00:00<?, ?B/s]"
      ],
      "application/vnd.jupyter.widget-view+json": {
       "version_major": 2,
       "version_minor": 0,
       "model_id": "1b23c711cbf4446394e22c0d5597d1a8"
      }
     },
     "metadata": {},
     "output_type": "display_data"
    },
    {
     "data": {
      "text/plain": [
       "config_sentence_transformers.json:   0%|          | 0.00/124 [00:00<?, ?B/s]"
      ],
      "application/vnd.jupyter.widget-view+json": {
       "version_major": 2,
       "version_minor": 0,
       "model_id": "213bbd5470a04765ae77ec68ccea4802"
      }
     },
     "metadata": {},
     "output_type": "display_data"
    },
    {
     "data": {
      "text/plain": [
       "README.md:   0%|          | 0.00/94.6k [00:00<?, ?B/s]"
      ],
      "application/vnd.jupyter.widget-view+json": {
       "version_major": 2,
       "version_minor": 0,
       "model_id": "4c086007fded4a8d97263d234c3a760f"
      }
     },
     "metadata": {},
     "output_type": "display_data"
    },
    {
     "data": {
      "text/plain": [
       "sentence_bert_config.json:   0%|          | 0.00/52.0 [00:00<?, ?B/s]"
      ],
      "application/vnd.jupyter.widget-view+json": {
       "version_major": 2,
       "version_minor": 0,
       "model_id": "e5c5cf6e362d4d0a94c0652da156da39"
      }
     },
     "metadata": {},
     "output_type": "display_data"
    },
    {
     "data": {
      "text/plain": [
       "config.json:   0%|          | 0.00/779 [00:00<?, ?B/s]"
      ],
      "application/vnd.jupyter.widget-view+json": {
       "version_major": 2,
       "version_minor": 0,
       "model_id": "dc114b3328424e878da97c98b535ea06"
      }
     },
     "metadata": {},
     "output_type": "display_data"
    },
    {
     "data": {
      "text/plain": [
       "model.safetensors:   0%|          | 0.00/1.34G [00:00<?, ?B/s]"
      ],
      "application/vnd.jupyter.widget-view+json": {
       "version_major": 2,
       "version_minor": 0,
       "model_id": "bcd35690dd8c47be99222eb734067a0e"
      }
     },
     "metadata": {},
     "output_type": "display_data"
    },
    {
     "data": {
      "text/plain": [
       "tokenizer_config.json:   0%|          | 0.00/366 [00:00<?, ?B/s]"
      ],
      "application/vnd.jupyter.widget-view+json": {
       "version_major": 2,
       "version_minor": 0,
       "model_id": "fba216c2d85d447c8f734495c615674a"
      }
     },
     "metadata": {},
     "output_type": "display_data"
    },
    {
     "data": {
      "text/plain": [
       "vocab.txt:   0%|          | 0.00/232k [00:00<?, ?B/s]"
      ],
      "application/vnd.jupyter.widget-view+json": {
       "version_major": 2,
       "version_minor": 0,
       "model_id": "547c5789d5d44f8883df738fe334457a"
      }
     },
     "metadata": {},
     "output_type": "display_data"
    },
    {
     "data": {
      "text/plain": [
       "tokenizer.json:   0%|          | 0.00/711k [00:00<?, ?B/s]"
      ],
      "application/vnd.jupyter.widget-view+json": {
       "version_major": 2,
       "version_minor": 0,
       "model_id": "471b8fddafd74516bb3b1b144d19722c"
      }
     },
     "metadata": {},
     "output_type": "display_data"
    },
    {
     "data": {
      "text/plain": [
       "special_tokens_map.json:   0%|          | 0.00/125 [00:00<?, ?B/s]"
      ],
      "application/vnd.jupyter.widget-view+json": {
       "version_major": 2,
       "version_minor": 0,
       "model_id": "5f42c1b1c1294744a2e2db053bbfb85f"
      }
     },
     "metadata": {},
     "output_type": "display_data"
    },
    {
     "data": {
      "text/plain": [
       "1_Pooling/config.json:   0%|          | 0.00/191 [00:00<?, ?B/s]"
      ],
      "application/vnd.jupyter.widget-view+json": {
       "version_major": 2,
       "version_minor": 0,
       "model_id": "ff09708eedaa474aa4eb6ca711ab3295"
      }
     },
     "metadata": {},
     "output_type": "display_data"
    }
   ],
   "execution_count": 10
  },
  {
   "cell_type": "markdown",
   "id": "9d5da984-67dc-43ce-b871-b5e91186767a",
   "metadata": {},
   "source": [
    "Now let's go get our embeddings. We'll do this in batch to make it quicker."
   ]
  },
  {
   "cell_type": "code",
   "id": "ea3df9829e814a24",
   "metadata": {},
   "source": "embeddings = hf.embed_documents([x['combined_sentence'] for x in sentences])",
   "outputs": [],
   "execution_count": null
  },
  {
   "metadata": {
    "ExecuteTime": {
     "end_time": "2024-11-11T20:11:54.924461Z",
     "start_time": "2024-11-11T20:11:54.900945Z"
    }
   },
   "cell_type": "code",
   "source": [
    "\n",
    "# convert embeddings to 2d numpy array\n",
    "import numpy as np\n",
    "\n",
    "embeddings2 = np.array(embeddings)\n",
    "# show 3x3 first element of embeddings2\n",
    "embeddings2[:3, :3]\n"
   ],
   "id": "8a18ba5b-4c9f-42d8-bad0-ca0825715f1b",
   "outputs": [
    {
     "data": {
      "text/plain": [
       "array([[ 0.02505352, -0.00151293, -0.03129766],\n",
       "       [ 0.03548918,  0.00140693, -0.03505548],\n",
       "       [ 0.03297002, -0.00401643, -0.04017643]])"
      ]
     },
     "execution_count": 39,
     "metadata": {},
     "output_type": "execute_result"
    }
   ],
   "execution_count": 39
  },
  {
   "cell_type": "markdown",
   "id": "5af8f7c856144ee7",
   "metadata": {},
   "source": "embeddings"
  },
  {
   "metadata": {},
   "cell_type": "markdown",
   "source": "Now we have a list of embeddings, but we need to add them to our list of dicts",
   "id": "6a2cdc46-ad21-4e8e-a540-548aa3604212"
  },
  {
   "cell_type": "code",
   "id": "45828ce9-31cf-4810-a5e8-2098201a91dd",
   "metadata": {
    "ExecuteTime": {
     "end_time": "2024-11-11T13:24:19.255590Z",
     "start_time": "2024-11-11T13:24:19.252743Z"
    }
   },
   "source": [
    "for i, sentence in enumerate(sentences):\n",
    "    sentence['combined_sentence_embedding'] = embeddings[i]"
   ],
   "outputs": [],
   "execution_count": 12
  },
  {
   "cell_type": "markdown",
   "id": "7a4f5f3e-f436-4374-be90-a1f5f819e518",
   "metadata": {},
   "source": [
    "Great, now we're getting to the cool part, let's check out the cosine distances between sequential embedding pairs to see where the break points are. We'll add 'distance_to_next' as another key"
   ]
  },
  {
   "cell_type": "code",
   "id": "95792785-a966-4b40-a9c4-c76eaed71766",
   "metadata": {
    "ExecuteTime": {
     "end_time": "2024-11-11T13:24:26.965634Z",
     "start_time": "2024-11-11T13:24:26.956672Z"
    }
   },
   "source": [
    "from sklearn.metrics.pairwise import cosine_similarity\n",
    "\n",
    "def calculate_cosine_distances(sentences):\n",
    "    distances = []\n",
    "    for i in range(len(sentences) - 1):\n",
    "        embedding_current = sentences[i]['combined_sentence_embedding']\n",
    "        embedding_next = sentences[i + 1]['combined_sentence_embedding']\n",
    "        \n",
    "        # Calculate cosine similarity\n",
    "        similarity = cosine_similarity([embedding_current], [embedding_next])[0][0]\n",
    "        \n",
    "        # Convert to cosine distance\n",
    "        distance = 1 - similarity\n",
    "\n",
    "        # Append cosine distance to the list\n",
    "        distances.append(distance)\n",
    "\n",
    "        # Store distance in the dictionary\n",
    "        sentences[i]['distance_to_next'] = distance\n",
    "\n",
    "    # Optionally handle the last sentence\n",
    "    # sentences[-1]['distance_to_next'] = None  # or a default value\n",
    "\n",
    "    return distances, sentences"
   ],
   "outputs": [],
   "execution_count": 13
  },
  {
   "cell_type": "markdown",
   "id": "45abeb2e-605b-4556-82ca-b7c99eec742a",
   "metadata": {},
   "source": [
    "Great, now let's pull out the distances from our sentences and then add them as well"
   ]
  },
  {
   "cell_type": "code",
   "id": "336bf78a-8109-4fc5-92b3-28aa049b9f99",
   "metadata": {
    "ExecuteTime": {
     "end_time": "2024-11-11T13:24:31.893677Z",
     "start_time": "2024-11-11T13:24:31.807253Z"
    }
   },
   "source": [
    "distances, sentences = calculate_cosine_distances(sentences)"
   ],
   "outputs": [],
   "execution_count": 14
  },
  {
   "cell_type": "markdown",
   "id": "57eeacef-1594-41ea-a5f9-70f99b8878f3",
   "metadata": {},
   "source": [
    "Let's take a look at what our distances array looks like."
   ]
  },
  {
   "cell_type": "code",
   "id": "3c330493-20f9-456e-a6f7-7e16cac4f3d1",
   "metadata": {
    "ExecuteTime": {
     "end_time": "2024-11-11T19:59:43.846562Z",
     "start_time": "2024-11-11T19:59:43.819631Z"
    }
   },
   "source": [
    "distances[:3]"
   ],
   "outputs": [
    {
     "data": {
      "text/plain": [
       "[0.013109762810241676, 0.061787093906926716, 0.13713697465421992]"
      ]
     },
     "execution_count": 21,
     "metadata": {},
     "output_type": "execute_result"
    }
   ],
   "execution_count": 21
  },
  {
   "cell_type": "markdown",
   "id": "7e960090-8714-4481-adec-33fe39c31bc4",
   "metadata": {},
   "source": [
    "Hm, yep, just a bunch of numbers that aren't fun to look at. Let's plot them."
   ]
  },
  {
   "cell_type": "code",
   "id": "986e4885-b079-4a4a-9ae4-a1227d6ce1bc",
   "metadata": {
    "ExecuteTime": {
     "end_time": "2024-11-11T13:25:35.731676Z",
     "start_time": "2024-11-11T13:25:03.355528Z"
    }
   },
   "source": [
    "import matplotlib.pyplot as plt\n",
    "\n",
    "plt.plot(distances);"
   ],
   "outputs": [
    {
     "name": "stderr",
     "output_type": "stream",
     "text": [
      "huggingface/tokenizers: The current process just got forked, after parallelism has already been used. Disabling parallelism to avoid deadlocks...\n",
      "To disable this warning, you can either:\n",
      "\t- Avoid using `tokenizers` before the fork if possible\n",
      "\t- Explicitly set the environment variable TOKENIZERS_PARALLELISM=(true | false)\n",
      "huggingface/tokenizers: The current process just got forked, after parallelism has already been used. Disabling parallelism to avoid deadlocks...\n",
      "To disable this warning, you can either:\n",
      "\t- Avoid using `tokenizers` before the fork if possible\n",
      "\t- Explicitly set the environment variable TOKENIZERS_PARALLELISM=(true | false)\n",
      "huggingface/tokenizers: The current process just got forked, after parallelism has already been used. Disabling parallelism to avoid deadlocks...\n",
      "To disable this warning, you can either:\n",
      "\t- Avoid using `tokenizers` before the fork if possible\n",
      "\t- Explicitly set the environment variable TOKENIZERS_PARALLELISM=(true | false)\n",
      "Matplotlib is building the font cache; this may take a moment.\n"
     ]
    },
    {
     "data": {
      "text/plain": [
       "<Figure size 640x480 with 1 Axes>"
      ],
      "image/png": "[encoded data removed]"
     },
     "metadata": {},
     "output_type": "display_data"
    }
   ],
   "execution_count": 17
  },
  {
   "cell_type": "markdown",
   "id": "f4703f6b-9bf1-45ef-b0ea-a4fb95cc9007",
   "metadata": {},
   "source": [
    "Hm, cool! It's interesting to see sections where distances are smaller and then areas of larger distances. What stands out to me most is the outliers which are spread out.\n",
    "\n",
    "There are many ways to chunk up the essay based off these distances, but I'm going to consider any distance above the 95th percentile of distances as a break point. This is the only parameter we'll need to config.\n",
    "\n",
    "I'm going to build in the final viz, check out the video for an iterative build and an overview."
   ]
  },
  {
   "cell_type": "markdown",
   "id": "5044cd49-ef33-4d00-a629-bc3411b7939e",
   "metadata": {},
   "source": [
    "Let's look at the chunks that came out"
   ]
  },
  {
   "cell_type": "code",
   "id": "cba11136-a6fb-4ec6-83db-0476c9efc5e0",
   "metadata": {
    "ExecuteTime": {
     "end_time": "2024-11-11T13:28:13.116401Z",
     "start_time": "2024-11-11T13:28:12.944805Z"
    }
   },
   "source": [
    "import numpy as np\n",
    "\n",
    "plt.plot(distances);\n",
    "\n",
    "y_upper_bound = .2\n",
    "plt.ylim(0, y_upper_bound)\n",
    "plt.xlim(0, len(distances))\n",
    "\n",
    "# We need to get the distance threshold that we'll consider an outlier\n",
    "# We'll use numpy .percentile() for this\n",
    "breakpoint_percentile_threshold = 95\n",
    "breakpoint_distance_threshold = np.percentile(distances, breakpoint_percentile_threshold) # If you want more chunks, lower the percentile cutoff\n",
    "plt.axhline(y=breakpoint_distance_threshold, color='r', linestyle='-');\n",
    "\n",
    "# Then we'll see how many distances are actually above this one\n",
    "num_distances_above_theshold = len([x for x in distances if x > breakpoint_distance_threshold]) # The amount of distances above your threshold\n",
    "plt.text(x=(len(distances)*.01), y=y_upper_bound/50, s=f\"{num_distances_above_theshold + 1} Chunks\");\n",
    "\n",
    "# Then we'll get the index of the distances that are above the threshold. This will tell us where we should split our text\n",
    "indices_above_thresh = [i for i, x in enumerate(distances) if x > breakpoint_distance_threshold] # The indices of those breakpoints on your list\n",
    "\n",
    "# Start of the shading and text\n",
    "colors = ['b', 'g', 'r', 'c', 'm', 'y', 'k']\n",
    "for i, breakpoint_index in enumerate(indices_above_thresh):\n",
    "    start_index = 0 if i == 0 else indices_above_thresh[i - 1]\n",
    "    end_index = breakpoint_index if i < len(indices_above_thresh) - 1 else len(distances)\n",
    "\n",
    "    plt.axvspan(start_index, end_index, facecolor=colors[i % len(colors)], alpha=0.25)\n",
    "    plt.text(x=np.average([start_index, end_index]),\n",
    "             y=breakpoint_distance_threshold + (y_upper_bound)/ 20,\n",
    "             s=f\"Chunk #{i}\", horizontalalignment='center',\n",
    "             rotation='vertical')\n",
    "\n",
    "# # Additional step to shade from the last breakpoint to the end of the dataset\n",
    "if indices_above_thresh:\n",
    "    last_breakpoint = indices_above_thresh[-1]\n",
    "    if last_breakpoint < len(distances):\n",
    "        plt.axvspan(last_breakpoint, len(distances), facecolor=colors[len(indices_above_thresh) % len(colors)], alpha=0.25)\n",
    "        plt.text(x=np.average([last_breakpoint, len(distances)]),\n",
    "                 y=breakpoint_distance_threshold + (y_upper_bound)/ 20,\n",
    "                 s=f\"Chunk #{i+1}\",\n",
    "                 rotation='vertical')\n",
    "\n",
    "plt.title(\"PG Essay Chunks Based On Embedding Breakpoints\")\n",
    "plt.xlabel(\"Index of sentences in essay (Sentence Position)\")\n",
    "plt.ylabel(\"Cosine distance between sequential sentences\")\n",
    "plt.show()"
   ],
   "outputs": [
    {
     "data": {
      "text/plain": [
       "<Figure size 640x480 with 1 Axes>"
      ],
      "image/png": "[encoded data removed]"
     },
     "metadata": {},
     "output_type": "display_data"
    }
   ],
   "execution_count": 18
  },
  {
   "cell_type": "markdown",
   "id": "6c942fe5-cfb4-44b2-8177-35983e88ea82",
   "metadata": {},
   "source": [
    "Well now that we've succefully distracted ourselves with a visualization, now we need to combine the sentences into chunks.\n",
    "\n",
    "Because we have our breakpoints [23, 40, 51...] I want to make the first chunk 0-22, since the distance jumped on sentence 23."
   ]
  },
  {
   "cell_type": "code",
   "id": "f17828f0-4d1b-4514-ad87-343301cb8450",
   "metadata": {
    "ExecuteTime": {
     "end_time": "2024-11-11T13:28:25.788926Z",
     "start_time": "2024-11-11T13:28:25.785948Z"
    }
   },
   "source": [
    "# Initialize the start index\n",
    "start_index = 0\n",
    "\n",
    "# Create a list to hold the grouped sentences\n",
    "chunks = []\n",
    "\n",
    "# Iterate through the breakpoints to slice the sentences\n",
    "for index in indices_above_thresh:\n",
    "    # The end index is the current breakpoint\n",
    "    end_index = index\n",
    "\n",
    "    # Slice the sentence_dicts from the current start index to the end index\n",
    "    group = sentences[start_index:end_index + 1]\n",
    "    combined_text = ' '.join([d['sentence'] for d in group])\n",
    "    chunks.append(combined_text)\n",
    "    \n",
    "    # Update the start index for the next group\n",
    "    start_index = index + 1\n",
    "\n",
    "# The last group, if any sentences remain\n",
    "if start_index < len(sentences):\n",
    "    combined_text = ' '.join([d['sentence'] for d in sentences[start_index:]])\n",
    "    chunks.append(combined_text)\n",
    "\n",
    "# grouped_sentences now contains the chunked sentences"
   ],
   "outputs": [],
   "execution_count": 19
  },
  {
   "cell_type": "markdown",
   "id": "8418f022-d929-427e-9977-ec12c4eb0236",
   "metadata": {},
   "source": [
    "Great now let's manually inspect a few to make sure they look ok."
   ]
  },
  {
   "cell_type": "code",
   "id": "d709135b-6465-4720-8eb8-60dc9f91efac",
   "metadata": {
    "ExecuteTime": {
     "end_time": "2024-11-11T13:28:29.670975Z",
     "start_time": "2024-11-11T13:28:29.667533Z"
    }
   },
   "source": [
    "for i, chunk in enumerate(chunks[:2]):\n",
    "    buffer = 200\n",
    "    \n",
    "    print (f\"Chunk #{i}\")\n",
    "    print (chunk[:buffer].strip())\n",
    "    print (\"...\")\n",
    "    print (chunk[-buffer:].strip())\n",
    "    print (\"\\n\")"
   ],
   "outputs": [
    {
     "name": "stdout",
     "output_type": "stream",
     "text": [
      "Chunk #0\n",
      "I can do my standard setup, is that so far, we've  either assumed we knew where the block was immediately,  or I actually, in some of the notebooks,  I had the system pull on the output port that  was\n",
      "...\n",
      "ite as dramatic as the deep learning. But going on very much in parallel  and getting spectacular results has  been this geometric perception pipeline. And that's sad, like really comically sad there.\n",
      "\n",
      "\n",
      "Chunk #1\n",
      "OK.\n",
      "...\n",
      "OK.\n",
      "\n",
      "\n"
     ]
    }
   ],
   "execution_count": 20
  },
  {
   "cell_type": "markdown",
   "id": "c4a86473-b267-483d-ac45-e0f4d30b67e6",
   "metadata": {},
   "source": [
    "I want to re-emphasize that this is an exploration of a method that is far from usable yet. This method should be tested with RAG eval to ensure that it works for your use case.\n",
    "\n",
    "I didn't worry about chunk size or overlap with this method, but you could recursively split large chunks if you needed to.\n",
    "\n",
    "How should it be improved? Let me [know](https://twitter.com/GregKamradt)! See me tease this [here](https://twitter.com/GregKamradt/status/1737921395974430953)."
   ]
  },
  {
   "cell_type": "markdown",
   "id": "c43ff201-d657-49e0-8a03-8e6460113393",
   "metadata": {},
   "source": [
    "## Level 5: Agentic Chunking <a id=\"AgenticChunking\"></a>\n",
    "Taking level 4 even further - can we instruct an LLM to do this task like a human would?\n",
    "\n",
    "How does a human even go about chunking in the first place?\n",
    "\n",
    "Well...let me think, how would I go about chunking a document into its discrete parts such that the results were semantically similar?\n",
    "\n",
    "1. I would get myself a scratch piece of paper or notepad\n",
    "2. I'd start at the top of the essay and assume the first part will be a chunk (since we don't have any yet)\n",
    "3. Then I would keep going down the essay and evaluate if a new sentence or piece of the essay should be a part of the first chunk, if not, then create a new one\n",
    "4. Then keep doing that all the way down the essay until we got to the end.\n",
    "\n",
    "Woah! Wait a minute - this is pseudo code for something we can try out. See me tease this [here](https://twitter.com/GregKamradt/status/1738276097471754735).\n",
    "\n",
    "I debated whether or not to hold myself to the strict standard of using the *raw text* from a document, or use a derived form. The former felt like I was being too harsh, so I decided to explore using [propositions](https://twitter.com/LangChainAI/status/1735708004618764470). This is a cool concept ([research paper](https://arxiv.org/pdf/2312.06648.pdf)) that extracts stand alone statements from a raw piece of text.\n",
    "\n",
    "Example: `Greg went to the park. He likes walking` > `['Greg went to the park.', 'Greg likes walking']`\n",
    "\n",
    "Let's do it:"
   ]
  },
  {
   "cell_type": "code",
   "execution_count": 63,
   "id": "5a6f79c0-f6bd-4561-bf0a-434955d875e5",
   "metadata": {},
   "outputs": [],
   "source": [
    "from langchain.output_parsers.openai_tools import JsonOutputToolsParser\n",
    "from langchain_community.chat_models import ChatOpenAI\n",
    "from langchain_core.prompts import ChatPromptTemplate\n",
    "from langchain_core.runnables import RunnableLambda\n",
    "from langchain.chains import create_extraction_chain\n",
    "from typing import Optional, List\n",
    "from langchain.chains import create_extraction_chain_pydantic\n",
    "from langchain_core.pydantic_v1 import BaseModel\n",
    "from langchain import hub"
   ]
  },
  {
   "cell_type": "markdown",
   "id": "3ba10ec8-8227-4b95-a2cc-4149941dfe98",
   "metadata": {},
   "source": [
    "Pulling out propositions is done via a well-crafted prompt. I'm going to pull it from [LangHub](https://smith.langchain.com/hub?organizationId=50995362-9ea0-4378-ad97-b4edae2f9f22), LangChain's home for prompts.\n",
    "\n",
    "You can view the proposition prompt [here](https://smith.langchain.com/hub/wfh/proposal-indexing?organizationId=50995362-9ea0-4378-ad97-b4edae2f9f22).\n",
    "\n",
    "I'll use gpt-4 as the LLM because we aren't messing around. I care more about performance than I do speed or cost."
   ]
  },
  {
   "cell_type": "code",
   "execution_count": 64,
   "id": "6de38943-7697-413e-a2e8-8a62cda914b8",
   "metadata": {},
   "outputs": [],
   "source": [
    "obj = hub.pull(\"wfh/proposal-indexing\")\n",
    "llm = ChatOpenAI(model='gpt-4-1106-preview', openai_api_key = os.getenv(\"OPENAI_API_KEY\", 'YouKey'))"
   ]
  },
  {
   "cell_type": "markdown",
   "id": "5a838bc4-e732-492d-80a5-8c829ca637ef",
   "metadata": {},
   "source": [
    "Then I'll make a runnable w/ langchain, this'll be a short way to combine the prompt and llm"
   ]
  },
  {
   "cell_type": "code",
   "execution_count": 65,
   "id": "97236eb3-361e-4ebd-aa13-979ac8718f5f",
   "metadata": {},
   "outputs": [],
   "source": [
    "# use it in a runnable\n",
    "runnable = obj | llm"
   ]
  },
  {
   "cell_type": "markdown",
   "id": "bea6b054-bac6-4ce6-be8f-724a6ea1c5ef",
   "metadata": {},
   "source": [
    "The output from a runnable is a json-esque structure in a string. We need to pull the sentences out. I found that LangChain's example extraction was giving me a hard time so I'm doing it manually with a pydantic data class. There is definitely room to improve this.\n",
    "\n",
    "Create your class then put it in an extraction chain."
   ]
  },
  {
   "cell_type": "code",
   "execution_count": 66,
   "id": "10116bfe-12a0-4f8c-95bf-67a0f8c1ceb5",
   "metadata": {},
   "outputs": [],
   "source": [
    "# Pydantic data class\n",
    "class Sentences(BaseModel):\n",
    "    sentences: List[str]\n",
    "    \n",
    "# Extraction\n",
    "extraction_chain = create_extraction_chain_pydantic(pydantic_schema=Sentences, llm=llm)"
   ]
  },
  {
   "cell_type": "markdown",
   "id": "a462b5c8-5cb2-4dcb-bedd-6ee1ce2cfd08",
   "metadata": {},
   "source": [
    "Then wrap it together in a function that'll return a list of propositions to us"
   ]
  },
  {
   "cell_type": "code",
   "execution_count": 67,
   "id": "7ec04652-19e3-4cab-a882-7c31cd87fe1a",
   "metadata": {},
   "outputs": [],
   "source": [
    "def get_propositions(text):\n",
    "    runnable_output = runnable.invoke({\n",
    "    \t\"input\": text\n",
    "    }).content\n",
    "    \n",
    "    propositions = extraction_chain.run(runnable_output)[0].sentences\n",
    "    return propositions"
   ]
  },
  {
   "cell_type": "markdown",
   "id": "de0bf288-24ba-4a50-a225-400c6fff5c61",
   "metadata": {},
   "source": [
    "Go get your text of choice."
   ]
  },
  {
   "cell_type": "code",
   "execution_count": 68,
   "id": "2be92b95-76d6-4a2c-ba2f-67379998956e",
   "metadata": {},
   "outputs": [],
   "source": [
    "with open('../../data/PGEssays/superlinear.txt') as file:\n",
    "    essay = file.read()"
   ]
  },
  {
   "cell_type": "markdown",
   "id": "25f4ee69-a87e-481e-b01d-403021a2610b",
   "metadata": {},
   "source": [
    "Then you need to decide what you send to your proposal maker. The prompt has an example that is about 1K characters long. So I would experiment with what works for you. This isn't another chunking decision, just pick something reasonable and try it out.\n",
    "\n",
    "I'm using paragraphs"
   ]
  },
  {
   "cell_type": "code",
   "execution_count": 69,
   "id": "1121baaf-c65a-4dce-a942-83cfbf6891cc",
   "metadata": {},
   "outputs": [],
   "source": [
    "paragraphs = essay.split(\"\\n\\n\")"
   ]
  },
  {
   "cell_type": "markdown",
   "id": "e29ae4f7-e58b-4941-b243-ccc72c3bf37c",
   "metadata": {},
   "source": [
    "Let's see how many we have"
   ]
  },
  {
   "cell_type": "code",
   "execution_count": 70,
   "id": "6a2c36b2-bce3-461f-9f52-af1c10b1c3ab",
   "metadata": {},
   "outputs": [
    {
     "data": {
      "text/plain": [
       "53"
      ]
     },
     "execution_count": 70,
     "metadata": {},
     "output_type": "execute_result"
    }
   ],
   "source": [
    "len(paragraphs)"
   ]
  },
  {
   "cell_type": "markdown",
   "id": "6c3cb285-abf3-4334-aff7-5f84d741c7f4",
   "metadata": {},
   "source": [
    "That's too many for a demo, I'll do just the first couple to show it off."
   ]
  },
  {
   "cell_type": "code",
   "execution_count": 71,
   "id": "46fddfc4-7cd6-4fe4-add7-7a12c593ef6c",
   "metadata": {},
   "outputs": [
    {
     "name": "stdout",
     "output_type": "stream",
     "text": [
      "Done with 0\n",
      "Done with 1\n",
      "Done with 2\n",
      "Done with 3\n",
      "Done with 4\n"
     ]
    }
   ],
   "source": [
    "essay_propositions = []\n",
    "\n",
    "for i, para in enumerate(paragraphs[:5]):\n",
    "    propositions = get_propositions(para)\n",
    "    \n",
    "    essay_propositions.extend(propositions)\n",
    "    print (f\"Done with {i}\")"
   ]
  },
  {
   "cell_type": "markdown",
   "id": "c01906ad-b5a2-4b73-a079-4564b66b147e",
   "metadata": {},
   "source": [
    "Let's take a look at what the propositions look like"
   ]
  },
  {
   "cell_type": "code",
   "execution_count": 72,
   "id": "4867944e-13f0-4207-b787-692eeebadea6",
   "metadata": {},
   "outputs": [
    {
     "name": "stdout",
     "output_type": "stream",
     "text": [
      "You have 26 propositions\n"
     ]
    },
    {
     "data": {
      "text/plain": [
       "['The month is October.',\n",
       " 'The year is 2023.',\n",
       " 'I did not understand the degree to which the returns for performance are superlinear when I was a child.',\n",
       " 'The returns for performance are superlinear.',\n",
       " 'Understanding the degree to which the returns for performance are superlinear is one of the most important things.',\n",
       " 'Teachers and coaches implicitly told us the returns were linear.',\n",
       " 'Teachers and coaches meant well.',\n",
       " \"The phrase 'You get out what you put in' was heard a thousand times.\",\n",
       " \"The statement that 'You get out what you put in' is rarely true.\",\n",
       " \"If your product is only half as good as your competitor's product, you don't get half as many customers.\"]"
      ]
     },
     "execution_count": 72,
     "metadata": {},
     "output_type": "execute_result"
    }
   ],
   "source": [
    "print (f\"You have {len(essay_propositions)} propositions\")\n",
    "essay_propositions[:10]"
   ]
  },
  {
   "cell_type": "markdown",
   "id": "941ebfc6-da6a-4fb8-833d-ed2e9810f25e",
   "metadata": {},
   "source": [
    "So you'll see that they look like regular sentences, but they are actually statements that are able to stand on their own. For example, one of the sentences in the raw text is \"They meant well, but this is rarely true.\" if you were to chunk that on it's own, the LLM would have no idea who you're talking about. Who meant well? What is rarely true? But those have been covered by the propositions.\n",
    "\n",
    "Now onto the cool part, we need a system that can reason about each proposition and determine whether or not it should be a part of an existing chunk or if a new chunk should be made.\n",
    "\n",
    "The pseudo code for how this works is above - I also review this code in the video so make sure to go watch that if you want to see me chat about it live.\n",
    "\n",
    "The script is also in this repo if you've cloned it."
   ]
  },
  {
   "cell_type": "code",
   "execution_count": 73,
   "id": "1193f8e1-28aa-4c8c-8929-bfbcf7edc618",
   "metadata": {},
   "outputs": [],
   "source": [
    "# mini script I made\n",
    "from agentic_chunker import AgenticChunker"
   ]
  },
  {
   "cell_type": "code",
   "execution_count": 74,
   "id": "f550431a-9484-4095-a888-31ec3cbe1b42",
   "metadata": {},
   "outputs": [],
   "source": [
    "ac = AgenticChunker()"
   ]
  },
  {
   "cell_type": "markdown",
   "id": "833086aa-d1b7-4ac8-9d85-3a71e6e634ab",
   "metadata": {},
   "source": [
    "Then let's pass in our propositions to it. There are a lot in the full list so I'm only going to do a subset.\n",
    "\n",
    "This method is slow and expensive, but let's see how the results are.\n",
    "\n",
    "You can turn off the print statements via setting `ac = AgenticChunker(print_logging=False)` when you create your chunker."
   ]
  },
  {
   "cell_type": "code",
   "execution_count": 75,
   "id": "f7e9892a-9a1c-4269-a262-7cc4ab0eed32",
   "metadata": {},
   "outputs": [
    {
     "name": "stdout",
     "output_type": "stream",
     "text": [
      "\n",
      "Adding: 'The month is October.'\n",
      "No chunks, creating a new one\n"
     ]
    },
    {
     "name": "stdout",
     "output_type": "stream",
     "text": [
      "Created new chunk (fc52f): Date & Times\n",
      "\n",
      "Adding: 'The year is 2023.'\n",
      "Chunk Found (fc52f), adding to: Date & Times\n",
      "\n",
      "Adding: 'I did not understand the degree to which the returns for performance are superlinear when I was a child.'\n",
      "No chunks found\n",
      "Created new chunk (a4a7e): Effort-Reward Relationship\n",
      "\n",
      "Adding: 'The returns for performance are superlinear.'\n",
      "Chunk Found (a4a7e), adding to: Effort-Reward Relationship\n",
      "\n",
      "Adding: 'Understanding the degree to which the returns for performance are superlinear is one of the most important things.'\n",
      "Chunk Found (a4a7e), adding to: Superlinear Returns in Performance\n",
      "\n",
      "Adding: 'Teachers and coaches implicitly told us the returns were linear.'\n",
      "No chunks found\n",
      "Created new chunk (38e4a): Education & Coaching Returns\n",
      "\n",
      "Adding: 'Teachers and coaches meant well.'\n",
      "No chunks found\n",
      "Created new chunk (0402d): Educational Approaches\n",
      "\n",
      "Adding: 'The phrase 'You get out what you put in' was heard a thousand times.'\n",
      "Chunk Found (38e4a), adding to: Education & Coaching Returns\n",
      "\n",
      "Adding: 'The statement that 'You get out what you put in' is rarely true.'\n",
      "Chunk Found (38e4a), adding to: Effort & Reward Beliefs\n",
      "\n",
      "Adding: 'If your product is only half as good as your competitor's product, you don't get half as many customers.'\n",
      "No chunks found\n",
      "Created new chunk (b0b25): Product Quality & Market Competition\n",
      "\n",
      "Adding: 'If your product is only half as good as your competitor's product, you get no customers.'\n",
      "Chunk Found (b0b25), adding to: Product Quality & Market Competition\n",
      "\n",
      "Adding: 'If your product is only half as good as your competitor's product, you go out of business.'\n",
      "Chunk Found (b0b25), adding to: Product Quality & Customer Acquisition\n",
      "\n",
      "Adding: 'The returns for performance are superlinear in business.'\n",
      "Chunk Found (a4a7e), adding to: Understanding Superlinear Returns\n",
      "\n",
      "Adding: 'Some people think the superlinear returns in business are a flaw of capitalism.'\n",
      "Chunk Found (a4a7e), adding to: Superlinear Returns in Performance & Business\n",
      "\n",
      "Adding: 'Some people think that changing the rules would stop the superlinear returns in business from being true.'\n",
      "Chunk Found (a4a7e), adding to: Superlinear Returns & Economic Perspectives\n",
      "\n",
      "Adding: 'Superlinear returns for performance are a feature of the world.'\n",
      "Chunk Found (a4a7e), adding to: Superlinear Returns in Performance & Business\n",
      "\n",
      "Adding: 'Superlinear returns for performance are not an artifact of rules that humans have invented.'\n",
      "Chunk Found (a4a7e), adding to: Superlinear Returns & Economic Concepts\n",
      "\n",
      "Adding: 'The same pattern of superlinear returns is seen in fame.'\n",
      "Chunk Found (a4a7e), adding to: Superlinear Returns in Performance & Economics\n",
      "\n",
      "Adding: 'The same pattern of superlinear returns is seen in power.'\n",
      "Chunk Found (a4a7e), adding to: Superlinear Returns & Their Implications\n",
      "\n",
      "Adding: 'The same pattern of superlinear returns is seen in military victories.'\n",
      "Chunk Found (a4a7e), adding to: Superlinear Returns in Various Domains\n",
      "\n",
      "Adding: 'The same pattern of superlinear returns is seen in knowledge.'\n",
      "Chunk Found (a4a7e), adding to: Superlinear Returns: Concept, Debate & Significance\n",
      "\n",
      "Adding: 'The same pattern of superlinear returns is seen in benefit to humanity.'\n",
      "Chunk Found (a4a7e), adding to: Superlinear Returns Across Domains\n",
      "\n",
      "Adding: 'In all of these areas, the rich get richer.'\n",
      "Chunk Found (a4a7e), adding to: Superlinear Returns in Performance & Society\n",
      "\n",
      "Adding: 'You cannot understand the world without understanding the concept of superlinear returns.'\n",
      "Chunk Found (a4a7e), adding to: Superlinear Returns Across Domains & Their Implications\n",
      "\n",
      "Adding: 'If you are ambitious, you should understand the concept of superlinear returns.'\n",
      "Chunk Found (a4a7e), adding to: Superlinear Returns & Societal Impact\n",
      "\n",
      "Adding: 'Understanding the concept of superlinear returns will be the wave that ambitious individuals surf on.'\n",
      "Chunk Found (a4a7e), adding to: Superlinear Returns in Various Domains\n"
     ]
    }
   ],
   "source": [
    "ac.add_propositions(essay_propositions)"
   ]
  },
  {
   "cell_type": "markdown",
   "id": "1481fe66-f73c-4fd2-a51c-3a1131a8e57c",
   "metadata": {},
   "source": [
    "Cool, looks like a few chunks were made. Let's check them out"
   ]
  },
  {
   "cell_type": "code",
   "execution_count": 76,
   "id": "27c79f2a-119e-45f2-8883-0f623a7c211e",
   "metadata": {},
   "outputs": [
    {
     "name": "stdout",
     "output_type": "stream",
     "text": [
      "\n",
      "You have 5 chunks\n",
      "\n",
      "Chunk #0\n",
      "Chunk ID: fc52f\n",
      "Summary: This chunk contains information about specific dates and times related to the current month and year.\n",
      "Propositions:\n",
      "    -The month is October.\n",
      "    -The year is 2023.\n",
      "\n",
      "\n",
      "\n",
      "Chunk #1\n",
      "Chunk ID: a4a7e\n",
      "Summary: This chunk discusses the concept of superlinear returns across different sectors and its implications for understanding economic, social, and personal growth dynamics.\n",
      "Propositions:\n",
      "    -I did not understand the degree to which the returns for performance are superlinear when I was a child.\n",
      "    -The returns for performance are superlinear.\n",
      "    -Understanding the degree to which the returns for performance are superlinear is one of the most important things.\n",
      "    -The returns for performance are superlinear in business.\n",
      "    -Some people think the superlinear returns in business are a flaw of capitalism.\n",
      "    -Some people think that changing the rules would stop the superlinear returns in business from being true.\n",
      "    -Superlinear returns for performance are a feature of the world.\n",
      "    -Superlinear returns for performance are not an artifact of rules that humans have invented.\n",
      "    -The same pattern of superlinear returns is seen in fame.\n",
      "    -The same pattern of superlinear returns is seen in power.\n",
      "    -The same pattern of superlinear returns is seen in military victories.\n",
      "    -The same pattern of superlinear returns is seen in knowledge.\n",
      "    -The same pattern of superlinear returns is seen in benefit to humanity.\n",
      "    -In all of these areas, the rich get richer.\n",
      "    -You cannot understand the world without understanding the concept of superlinear returns.\n",
      "    -If you are ambitious, you should understand the concept of superlinear returns.\n",
      "    -Understanding the concept of superlinear returns will be the wave that ambitious individuals surf on.\n",
      "\n",
      "\n",
      "\n",
      "Chunk #2\n",
      "Chunk ID: 38e4a\n",
      "Summary: This chunk explores the concept of effort and reward correlation and challenges the notion that they are always directly proportional.\n",
      "Propositions:\n",
      "    -Teachers and coaches implicitly told us the returns were linear.\n",
      "    -The phrase 'You get out what you put in' was heard a thousand times.\n",
      "    -The statement that 'You get out what you put in' is rarely true.\n",
      "\n",
      "\n",
      "\n",
      "Chunk #3\n",
      "Chunk ID: 0402d\n",
      "Summary: This chunk contains information about the intentions and attitudes of educators and instructors.\n",
      "Propositions:\n",
      "    -Teachers and coaches meant well.\n",
      "\n",
      "\n",
      "\n",
      "Chunk #4\n",
      "Chunk ID: b0b25\n",
      "Summary: This chunk discusses the consequences of inferior product quality on business success in a competitive market.\n",
      "Propositions:\n",
      "    -If your product is only half as good as your competitor's product, you don't get half as many customers.\n",
      "    -If your product is only half as good as your competitor's product, you get no customers.\n",
      "    -If your product is only half as good as your competitor's product, you go out of business.\n",
      "\n",
      "\n",
      "\n"
     ]
    }
   ],
   "source": [
    "ac.pretty_print_chunks()"
   ]
  },
  {
   "cell_type": "markdown",
   "id": "e4aebf75-53b9-4695-bea9-effa0adf967e",
   "metadata": {},
   "source": [
    "Awesome, then if we wanted to get the chunks properly, then we get extract a list of strings with them. The chunks propositions will be joined in the same string"
   ]
  },
  {
   "cell_type": "code",
   "execution_count": 77,
   "id": "e90e5eb4-676f-4310-8bbf-be87f94d07eb",
   "metadata": {},
   "outputs": [],
   "source": [
    "chunks = ac.get_chunks(get_type='list_of_strings')"
   ]
  },
  {
   "cell_type": "code",
   "execution_count": 78,
   "id": "d08eb17e-10ab-426e-8998-bed29ab76dac",
   "metadata": {},
   "outputs": [
    {
     "data": {
      "text/plain": [
       "['The month is October. The year is 2023.',\n",
       " 'I did not understand the degree to which the returns for performance are superlinear when I was a child. The returns for performance are superlinear. Understanding the degree to which the returns for performance are superlinear is one of the most important things. The returns for performance are superlinear in business. Some people think the superlinear returns in business are a flaw of capitalism. Some people think that changing the rules would stop the superlinear returns in business from being true. Superlinear returns for performance are a feature of the world. Superlinear returns for performance are not an artifact of rules that humans have invented. The same pattern of superlinear returns is seen in fame. The same pattern of superlinear returns is seen in power. The same pattern of superlinear returns is seen in military victories. The same pattern of superlinear returns is seen in knowledge. The same pattern of superlinear returns is seen in benefit to humanity. In all of these areas, the rich get richer. You cannot understand the world without understanding the concept of superlinear returns. If you are ambitious, you should understand the concept of superlinear returns. Understanding the concept of superlinear returns will be the wave that ambitious individuals surf on.',\n",
       " \"Teachers and coaches implicitly told us the returns were linear. The phrase 'You get out what you put in' was heard a thousand times. The statement that 'You get out what you put in' is rarely true.\",\n",
       " 'Teachers and coaches meant well.',\n",
       " \"If your product is only half as good as your competitor's product, you don't get half as many customers. If your product is only half as good as your competitor's product, you get no customers. If your product is only half as good as your competitor's product, you go out of business.\"]"
      ]
     },
     "execution_count": 78,
     "metadata": {},
     "output_type": "execute_result"
    }
   ],
   "source": [
    "chunks"
   ]
  },
  {
   "cell_type": "markdown",
   "id": "e920b345-0294-4b5d-995c-da36bdfaeace",
   "metadata": {},
   "source": [
    "Great, now we can go use that in our evaluations for your retrieval."
   ]
  },
  {
   "cell_type": "markdown",
   "id": "75a8462b-8c10-4550-b42c-453ecdec3647",
   "metadata": {},
   "source": [
    "## Bonus Level: Alternative Representation <a id=\"BonusLevel\"></a>\n",
    "So far I've shown how to chunk up your raw text (okay, I was a bit liberal with level 5).\n",
    "\n",
    "But what if your raw text isn't the best way to represent your data for your task?\n",
    "\n",
    "For example, if you're doing semantic search on chat messages, raw chat messages may lack the context to make a successful embedding. Maybe actually trying to semantic search of a summary of a conversation would do better. Or maybe hypothetical questions that the chat would answer?\n",
    "\n",
    "This is where the world of chunking/splitting starts to dive into the world of [indexing](https://docs.llamaindex.ai/en/stable/understanding/indexing/indexing.html#what-is-an-index). When you index, you're making a choice about how you want to represent your data in your data base or knowledge base.\n",
    "\n",
    "This is more of a retrieval topic, but it's worth talking about with chunking.\n",
    "\n",
    "Let's quickly go through a few popular alternative ways developers like to represent their data. There are unlimited methods to try. We'll review 4 of them\n",
    "\n",
    "* **[Multi-Vector Indexing](https://python.langchain.com/docs/modules/data_connection/retrievers/multi_vector)** - This is when you do semantic search for a vector that is derived from something other than your raw text\n",
    "    * **Summaries** - A summary of your chunk\n",
    "    * **Hypothetical questions** - Good for chat messages used as knowledge base\n",
    "    * **Child Documents** - Parent Document Retriever\n",
    "* **Graph Based Chunking** - Transposing your raw text into a graph structure\n",
    "\n",
    "### Summaries\n",
    "Instead of embedding your raw text, embed a summary of your raw text which will have more dense information"
   ]
  },
  {
   "cell_type": "code",
   "execution_count": 79,
   "id": "fce9678d-187e-4293-b1aa-eda9045035ee",
   "metadata": {},
   "outputs": [],
   "source": [
    "import uuid\n",
    "\n",
    "from langchain.chat_models import ChatOpenAI\n",
    "from langchain.prompts import ChatPromptTemplate\n",
    "from langchain_core.documents import Document\n",
    "from langchain_core.output_parsers import StrOutputParser\n",
    "from langchain.text_splitter import RecursiveCharacterTextSplitter\n",
    "from langchain.retrievers.multi_vector import MultiVectorRetriever\n",
    "from langchain.storage import InMemoryByteStore\n",
    "from langchain.embeddings import OpenAIEmbeddings\n",
    "from langchain.vectorstores import Chroma"
   ]
  },
  {
   "cell_type": "markdown",
   "id": "b445bc40-531b-4a65-b4ee-852377862ce9",
   "metadata": {},
   "source": [
    "Let's use our Super Linear essay again. I'll split it into large chunks"
   ]
  },
  {
   "cell_type": "code",
   "execution_count": 82,
   "id": "ca8c1a25-aaff-4d74-a5fd-f681f7cf478f",
   "metadata": {},
   "outputs": [
    {
     "name": "stdout",
     "output_type": "stream",
     "text": [
      "You have 6 docs\n"
     ]
    }
   ],
   "source": [
    "with open('../../data/PGEssays/superlinear.txt') as file:\n",
    "    essay = file.read()\n",
    "\n",
    "splitter = RecursiveCharacterTextSplitter(chunk_size=4000, chunk_overlap=0)\n",
    "\n",
    "docs = splitter.create_documents([essay])\n",
    "\n",
    "print (f\"You have {len(docs)} docs\")"
   ]
  },
  {
   "cell_type": "markdown",
   "id": "3b418bdb-c03c-4885-8a74-983c5732f6dc",
   "metadata": {},
   "source": [
    "Spin up a chain that will quickly summarize for you"
   ]
  },
  {
   "cell_type": "code",
   "execution_count": 83,
   "id": "460da5b4-cd95-4ea5-ae21-57c2cf99b80f",
   "metadata": {},
   "outputs": [],
   "source": [
    "chain = (\n",
    "    {\"doc\": lambda x: x.page_content}\n",
    "    | ChatPromptTemplate.from_template(\"Summarize the following document:\\n\\n{doc}\")\n",
    "    | ChatOpenAI(max_retries=0)\n",
    "    | StrOutputParser()\n",
    ")"
   ]
  },
  {
   "cell_type": "markdown",
   "id": "df67afe1-694f-47a5-acea-7a788ea5ba07",
   "metadata": {},
   "source": [
    "Then let's get the summaries"
   ]
  },
  {
   "cell_type": "code",
   "execution_count": 84,
   "id": "d6473c02-5728-418d-a201-5216d83599dd",
   "metadata": {},
   "outputs": [],
   "source": [
    "summaries = chain.batch(docs, {\"max_concurrency\": 5})"
   ]
  },
  {
   "cell_type": "markdown",
   "id": "f9282853-9a62-4ffd-a1bf-b0e8853ed864",
   "metadata": {},
   "source": [
    "Let's look at a sample"
   ]
  },
  {
   "cell_type": "code",
   "execution_count": 85,
   "id": "6ecc0c8f-3eb5-4e42-bd6e-2fdec56cc5b1",
   "metadata": {},
   "outputs": [
    {
     "data": {
      "text/plain": [
       "\"The document discusses the concept of superlinear returns for performance, where the rewards for performance are not proportional to the effort put in. It explains that this concept is present in various aspects of life, such as business, fame, power, military victories, and benefit to humanity. The document emphasizes the importance of understanding this concept, especially for ambitious individuals. It also discusses how exponential growth and thresholds are fundamental causes of superlinear returns, using examples such as bacterial cultures and startups. The document also mentions Y Combinator's focus on growth rate as a key factor in achieving exponential growth. Additionally, it explores how humans are not naturally accustomed to exponential growth and discusses historical examples of exponential growth, such as empires.\""
      ]
     },
     "execution_count": 85,
     "metadata": {},
     "output_type": "execute_result"
    }
   ],
   "source": [
    "summaries[0]"
   ]
  },
  {
   "cell_type": "markdown",
   "id": "9aaa4786-1d43-463b-a63d-55e1a9f35af3",
   "metadata": {},
   "source": [
    "Then we are going to create a vectorstore (holds vectors + summaries) and a docstore (holds raw docs)"
   ]
  },
  {
   "cell_type": "code",
   "execution_count": 86,
   "id": "cc76c297-804f-4e5a-9fed-f28b88f57059",
   "metadata": {},
   "outputs": [],
   "source": [
    "# The vectorstore to use to index the child chunks\n",
    "vectorstore = Chroma(collection_name=\"summaries\", embedding_function=OpenAIEmbeddings())\n",
    "\n",
    "# The storage layer for the parent documents\n",
    "store = InMemoryByteStore()\n",
    "\n",
    "id_key = \"doc_id\"\n",
    "\n",
    "# The retriever (empty to start)\n",
    "retriever = MultiVectorRetriever(\n",
    "    vectorstore=vectorstore,\n",
    "    byte_store=store,\n",
    "    id_key=id_key,\n",
    ")\n",
    "doc_ids = [str(uuid.uuid4()) for _ in docs]"
   ]
  },
  {
   "cell_type": "markdown",
   "id": "63f44d2b-6a25-431c-be0b-72fff86e019c",
   "metadata": {},
   "source": [
    "Then you want to create documents out of your summary list, add the doc_id to it's metadata. This will tie it back to the original document so you know which summary goes with which original doc."
   ]
  },
  {
   "cell_type": "code",
   "execution_count": 87,
   "id": "032d5cb8-cfe5-4a89-bb9a-fb2872e41be3",
   "metadata": {},
   "outputs": [],
   "source": [
    "summary_docs = [\n",
    "    Document(page_content=s, metadata={id_key: doc_ids[i]})\n",
    "    for i, s in enumerate(summaries)\n",
    "]"
   ]
  },
  {
   "cell_type": "markdown",
   "id": "02878000-5341-42fc-a1b0-a7e9da3367d7",
   "metadata": {},
   "source": [
    "Then add them both to your vectorestore and docstore. When you add the docs to the vectorstore it will get the embeddings for them too."
   ]
  },
  {
   "cell_type": "code",
   "execution_count": 88,
   "id": "53351f4d-f5db-4aeb-9b79-f4a0a3ba30f6",
   "metadata": {},
   "outputs": [],
   "source": [
    "# Adds the summaries\n",
    "retriever.vectorstore.add_documents(summary_docs)\n",
    "\n",
    "# Adds the raw documents\n",
    "retriever.docstore.mset(list(zip(doc_ids, docs)))"
   ]
  },
  {
   "cell_type": "markdown",
   "id": "e761a8ae-d31c-483b-bdf4-4a625e3e9662",
   "metadata": {},
   "source": [
    "Then if you want you can add the original docs to the vectorstore as well. Just make sure to add the doc id to it as well so you can tie it all together"
   ]
  },
  {
   "cell_type": "code",
   "execution_count": 89,
   "id": "d5c3b781-3166-4d91-ad03-48bc8b246d61",
   "metadata": {},
   "outputs": [],
   "source": [
    "# for i, doc in enumerate(docs):\n",
    "#     doc.metadata[id_key] = doc_ids[i]\n",
    "# retriever.vectorstore.add_documents(docs)"
   ]
  },
  {
   "cell_type": "markdown",
   "id": "b3397531-c8d3-4037-8f64-c51eeb6dc49b",
   "metadata": {},
   "source": [
    "Great, now that we've done all that work, let's try a search. If you run the code below, you'll search on the summary embeddings, but you'll get the raw documents returned."
   ]
  },
  {
   "cell_type": "code",
   "execution_count": 90,
   "id": "b2b9848e-136b-496f-b3ba-f57720a11993",
   "metadata": {},
   "outputs": [],
   "source": [
    "# retriever.get_relevant_documents(query=\"the concept of superlinear returns, which refers to the idea that the returns for performance are not linear\")"
   ]
  },
  {
   "cell_type": "markdown",
   "id": "e7d6ab29-a89a-4259-847d-492ccbaad02f",
   "metadata": {},
   "source": [
    "### Hypothetical Questions\n",
    "You can generate hypothetical questions about your raw documents. Check out [LangChain's](https://python.langchain.com/docs/modules/data_connection/retrievers/multi_vector#hypothetical-queries) implementation of it for more information.\n",
    "\n",
    "This is espeically helpful when you have sparse unstructured data, like chat messages.\n",
    "\n",
    "Say you were to build a bot that uses slack conversations as a knowledge base. Trying to do semantic search on raw chat messages might not have the greatest results. However, if you were to generate hypothetical questions that the slack messages would answer, then when you get a new question in, you'll likely have a better chance matching.\n",
    "\n",
    "The code for this will be the same as the summary code, but instead of asking the LLM to make a summary, you'll ask it for hypothetical questions.\n",
    "\n",
    "### Parent Document Retriever (PDR)\n",
    "Much like the previous two, Parent Document Retriever builds on the concept of doing semantic search on a varied representation of your data.\n",
    "\n",
    "The hypothesis with the PDR is that smaller chunks have a higher likely hood of being matched semantically with a potential query. However, those smaller chunks may not have all the context they need, so instead of passing the smaller chunks to your LLM, get the parent chunk of the smaller chunk. This means you get a larger chunk which the smaller chunk is placed in.\n",
    "\n",
    "Check out LangChain's implementation's implementation of it [here](https://python.langchain.com/docs/modules/data_connection/retrievers/parent_document_retriever).\n",
    "\n",
    "I have a full tutorial on it at [FullStackRetrieval.com](https://fullstackretrieval.com/) if you want to go deeper on that.\n",
    "\n",
    "I want to quickly go over a similar method in [Llama Index](https://www.llamaindex.ai/) with their `HierarchicalNodeParser` which will split a document at various chunk sizes (there will be a bunch of overlaps but that is the purpose). When combined with their `AutoMergingRetriever` you can do complicated retrieval easily. Their walkthrough [here](https://docs.llamaindex.ai/en/stable/examples/retrievers/auto_merging_retriever.html)."
   ]
  },
  {
   "cell_type": "code",
   "execution_count": 91,
   "id": "d078afc3-ecea-4cf1-b430-e27837508e86",
   "metadata": {},
   "outputs": [],
   "source": [
    "from llama_index.node_parser import HierarchicalNodeParser\n",
    "\n",
    "node_parser = HierarchicalNodeParser.from_defaults(\n",
    "    chunk_sizes=[2048, 512, 128],\n",
    "    chunk_overlap=0\n",
    ")"
   ]
  },
  {
   "cell_type": "code",
   "execution_count": 92,
   "id": "11c19a08-6a94-45a4-8d31-1ad91e014030",
   "metadata": {},
   "outputs": [],
   "source": [
    "documents = SimpleDirectoryReader(\n",
    "    input_files=[\"../../data/PGEssays/mit.txt\"]\n",
    ").load_data()"
   ]
  },
  {
   "cell_type": "markdown",
   "id": "26a9ecb0-c264-40cc-938a-3610c1a31835",
   "metadata": {},
   "source": [
    "Then let's do our splitting. There will be a bunch of chunks since we included `128` as a chunk size above"
   ]
  },
  {
   "cell_type": "code",
   "execution_count": 93,
   "id": "9806e1a0-79df-418d-962d-3757081fd273",
   "metadata": {},
   "outputs": [],
   "source": [
    "nodes = node_parser.get_nodes_from_documents(documents)"
   ]
  },
  {
   "cell_type": "code",
   "execution_count": 94,
   "id": "8ad26bbc-1b67-45dc-b44e-d62e36fd3589",
   "metadata": {},
   "outputs": [
    {
     "name": "stdout",
     "output_type": "stream",
     "text": [
      "You have 118 nodes\n"
     ]
    }
   ],
   "source": [
    "print (f\"You have {len(nodes)} nodes\")"
   ]
  },
  {
   "cell_type": "markdown",
   "id": "d703f821-f2e2-4975-a904-893007bb256c",
   "metadata": {},
   "source": [
    "Then let's look at the relationships that are available to one of the small nodes at the end"
   ]
  },
  {
   "cell_type": "code",
   "execution_count": 95,
   "id": "c037ce3e-d480-43e6-be47-0e7415153480",
   "metadata": {},
   "outputs": [
    {
     "data": {
      "text/plain": [
       "{<NodeRelationship.SOURCE: '1'>: RelatedNodeInfo(node_id='e3cee07e-460b-4cc9-95ad-93fc4bba0f58', node_type=<ObjectType.TEXT: '1'>, metadata={'file_path': '../../data/PGEssays/mit.txt', 'file_name': 'mit.txt', 'file_type': 'text/plain', 'file_size': 36045, 'creation_date': '2024-01-22', 'last_modified_date': '2023-12-21', 'last_accessed_date': '2024-03-11'}, hash='6e91b93d9f1ccaca77ad93ca986701dcb3e0605f685a67338cf1cf7350fb9236'),\n",
       " <NodeRelationship.PREVIOUS: '2'>: RelatedNodeInfo(node_id='ffbeb21c-1920-404c-9ffa-2dfa453a4a8f', node_type=<ObjectType.TEXT: '1'>, metadata={'file_path': '../../data/PGEssays/mit.txt', 'file_name': 'mit.txt', 'file_type': 'text/plain', 'file_size': 36045, 'creation_date': '2024-01-22', 'last_modified_date': '2023-12-21', 'last_accessed_date': '2024-03-11'}, hash='4c3163fbaee0bc2de2bbcb5decca5cf81cc839d85f294039af0f9c848acf6c11'),\n",
       " <NodeRelationship.NEXT: '3'>: RelatedNodeInfo(node_id='3462052a-d7d3-491a-9930-511bf6b6583b', node_type=<ObjectType.TEXT: '1'>, metadata={}, hash='2f9985a39495c94fe30b766ece62c378020dfc37a26a99f484b0ee0b97efb46d'),\n",
       " <NodeRelationship.PARENT: '4'>: RelatedNodeInfo(node_id='e3cee07e-460b-4cc9-95ad-93fc4bba0f58', node_type=<ObjectType.TEXT: '1'>, metadata={'file_path': '../../data/PGEssays/mit.txt', 'file_name': 'mit.txt', 'file_type': 'text/plain', 'file_size': 36045, 'creation_date': '2024-01-22', 'last_modified_date': '2023-12-21', 'last_accessed_date': '2024-03-11'}, hash='6e91b93d9f1ccaca77ad93ca986701dcb3e0605f685a67338cf1cf7350fb9236')}"
      ]
     },
     "execution_count": 95,
     "metadata": {},
     "output_type": "execute_result"
    }
   ],
   "source": [
    "nodes[-2].relationships"
   ]
  },
  {
   "cell_type": "markdown",
   "id": "a6fb0ed8-4427-4e8d-a8e9-9d11f3dcef9a",
   "metadata": {},
   "source": [
    "You can see there are source, previous, next, and parent. For [more information on these](https://docs.llamaindex.ai/en/stable/api/llama_index.schema.NodeRelationship.html).\n",
    "\n",
    "### Graph Structure\n",
    "If your data is rich with entities, relationships, and connections, then a graph structure may be best for you.\n",
    "\n",
    "Few options:\n",
    "* [Diffbot](https://www.diffbot.com/)\n",
    "* [InstaGraph](https://github.com/yoheinakajima/instagraph) - By [Yohei](https://twitter.com/yoheinakajima)\n",
    "\n",
    "I'll run through the LangChain supported version of Diffbot due to brevity. You'll need an API key from DB"
   ]
  },
  {
   "cell_type": "code",
   "execution_count": 96,
   "id": "547ee2d2-f852-4f01-bc1b-ec5355f36e4c",
   "metadata": {},
   "outputs": [],
   "source": [
    "# !pip3 install langchain langchain-experimental openai neo4j wikipedia\n",
    "\n",
    "from langchain_experimental.graph_transformers.diffbot import DiffbotGraphTransformer\n",
    "\n",
    "diffbot_nlp = DiffbotGraphTransformer(diffbot_api_key=os.getenv(\"DIFFBOT_API_KEY\", 'YourKey'))"
   ]
  },
  {
   "cell_type": "code",
   "execution_count": 97,
   "id": "e63a7ffb-acdc-4fd3-b4ba-9ce4eb09bcfa",
   "metadata": {},
   "outputs": [],
   "source": [
    "text = \"\"\"\n",
    "Greg is friends with Bobby. San Francisco is a great city, but New York is amazing.\n",
    "Greg lives in New York. \n",
    "\"\"\"\n",
    "docs = [Document(page_content=text)]"
   ]
  },
  {
   "cell_type": "code",
   "execution_count": 98,
   "id": "41436339-39c6-4cf7-aba6-0a2dcafec00b",
   "metadata": {
    "scrolled": true
   },
   "outputs": [],
   "source": [
    "graph_documents = diffbot_nlp.convert_to_graph_documents(docs)"
   ]
  },
  {
   "cell_type": "code",
   "execution_count": 99,
   "id": "250215f0-2ba9-49e4-8aef-1751ccc1b1bf",
   "metadata": {},
   "outputs": [
    {
     "data": {
      "text/plain": [
       "[GraphDocument(nodes=[Node(id='Greg', type='Person', properties={'name': 'Greg'}), Node(id='http://www.wikidata.org/entity/Q60', type='Location', properties={'name': 'New York City'}), Node(id='Bobby', type='Person', properties={'name': 'Bobby'})], relationships=[Relationship(source=Node(id='Greg', type='Person'), target=Node(id='http://www.wikidata.org/entity/Q60', type='Location'), type='PERSON_LOCATION', properties={'evidence': 'Greg lives in New York.', 'isCurrent': 'true'}), Relationship(source=Node(id='Greg', type='Person'), target=Node(id='http://www.wikidata.org/entity/Q60', type='Location'), type='PERSON_LOCATION', properties={'evidence': 'Greg lives in New York.', 'isCurrent': 'true'}), Relationship(source=Node(id='Greg', type='Person'), target=Node(id='Bobby', type='Person'), type='SOCIAL_RELATIONSHIP', properties={'evidence': 'Greg is friends with Bobby.'})], source=Document(page_content='\\nGreg is friends with Bobby. San Francisco is a great city, but New York is amazing.\\nGreg lives in New York. \\n'))]"
      ]
     },
     "execution_count": 99,
     "metadata": {},
     "output_type": "execute_result"
    }
   ],
   "source": [
    "graph_documents"
   ]
  },
  {
   "cell_type": "markdown",
   "id": "949e24e2-1d32-4ff3-a16e-ada98e46d6be",
   "metadata": {},
   "source": [
    "## Wrap up\n",
    "\n",
    "Congratulations on making it to the end of this video. The aim was to educate you on the chunking theory, give a nod to retrieval, and encourage you to try out these methods on your data.\n",
    "\n",
    "I always like hearing what you think about the code, video or how you use this in your role. Let me know on [twitter](https://twitter.com/GregKamradt) or email (contact@dataindependent.com)"
   ]
  },
  {
   "cell_type": "markdown",
   "id": "19567c26",
   "metadata": {},
   "source": []
  }
 ],
 "metadata": {
  "kernelspec": {
   "display_name": "Python 3 (ipykernel)",
   "language": "python",
   "name": "python3"
  },
  "language_info": {
   "codemirror_mode": {
    "name": "ipython",
    "version": 3
   },
   "file_extension": ".py",
   "mimetype": "text/x-python",
   "name": "python",
   "nbconvert_exporter": "python",
   "pygments_lexer": "ipython3",
   "version": "3.11.6"
  }
 },
 "nbformat": 4,
 "nbformat_minor": 5
}
